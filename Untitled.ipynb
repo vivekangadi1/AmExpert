{
 "cells": [
  {
   "cell_type": "code",
   "execution_count": 1,
   "metadata": {},
   "outputs": [],
   "source": [
    "import numpy as np\n",
    "import pandas as pd\n",
    "import matplotlib.pyplot as plt\n",
    "import seaborn as sns"
   ]
  },
  {
   "cell_type": "code",
   "execution_count": 2,
   "metadata": {},
   "outputs": [],
   "source": [
    "train = pd.read_csv('train_AUpWtIz/train.csv')\n",
    "campaign_data = pd.read_csv('train_AUpWtIz/campaign_data.csv')\n",
    "coupon_item_mapping = pd.read_csv('train_AUpWtIz/coupon_item_mapping.csv')\n",
    "customer_demographics = pd.read_csv('train_AUpWtIz/customer_demographics.csv')\n",
    "customer_transaction_data = pd.read_csv('train_AUpWtIz/customer_transaction_data.csv',mangle_dupe_cols=True,nrows=463598)\n",
    "item_data = pd.read_csv('train_AUpWtIz/item_data.csv')"
   ]
  },
  {
   "cell_type": "code",
   "execution_count": 3,
   "metadata": {},
   "outputs": [
    {
     "name": "stdout",
     "output_type": "stream",
     "text": [
      "78369\n",
      "<class 'pandas.core.frame.DataFrame'>\n",
      "RangeIndex: 78369 entries, 0 to 78368\n",
      "Data columns (total 5 columns):\n",
      "id                   78369 non-null int64\n",
      "campaign_id          78369 non-null int64\n",
      "coupon_id            78369 non-null int64\n",
      "customer_id          78369 non-null int64\n",
      "redemption_status    78369 non-null int64\n",
      "dtypes: int64(5)\n",
      "memory usage: 3.0 MB\n"
     ]
    }
   ],
   "source": [
    "print(len(train))\n",
    "train.info()"
   ]
  },
  {
   "cell_type": "code",
   "execution_count": 4,
   "metadata": {},
   "outputs": [
    {
     "name": "stdout",
     "output_type": "stream",
     "text": [
      "28\n",
      "<class 'pandas.core.frame.DataFrame'>\n",
      "RangeIndex: 28 entries, 0 to 27\n",
      "Data columns (total 4 columns):\n",
      "campaign_id      28 non-null int64\n",
      "campaign_type    28 non-null object\n",
      "start_date       28 non-null object\n",
      "end_date         28 non-null object\n",
      "dtypes: int64(1), object(3)\n",
      "memory usage: 976.0+ bytes\n"
     ]
    }
   ],
   "source": [
    "print(len(campaign_data))\n",
    "campaign_data.info()"
   ]
  },
  {
   "cell_type": "code",
   "execution_count": 5,
   "metadata": {},
   "outputs": [
    {
     "name": "stdout",
     "output_type": "stream",
     "text": [
      "92663\n",
      "<class 'pandas.core.frame.DataFrame'>\n",
      "RangeIndex: 92663 entries, 0 to 92662\n",
      "Data columns (total 2 columns):\n",
      "coupon_id    92663 non-null int64\n",
      "item_id      92663 non-null int64\n",
      "dtypes: int64(2)\n",
      "memory usage: 1.4 MB\n"
     ]
    }
   ],
   "source": [
    "print(len(coupon_item_mapping))\n",
    "coupon_item_mapping.info()"
   ]
  },
  {
   "cell_type": "code",
   "execution_count": 6,
   "metadata": {},
   "outputs": [
    {
     "name": "stdout",
     "output_type": "stream",
     "text": [
      "760\n",
      "<class 'pandas.core.frame.DataFrame'>\n",
      "RangeIndex: 760 entries, 0 to 759\n",
      "Data columns (total 7 columns):\n",
      "customer_id       760 non-null int64\n",
      "age_range         760 non-null object\n",
      "marital_status    431 non-null object\n",
      "rented            760 non-null int64\n",
      "family_size       760 non-null object\n",
      "no_of_children    222 non-null object\n",
      "income_bracket    760 non-null int64\n",
      "dtypes: int64(3), object(4)\n",
      "memory usage: 41.6+ KB\n"
     ]
    }
   ],
   "source": [
    "print(len(customer_demographics))\n",
    "customer_demographics.info()"
   ]
  },
  {
   "cell_type": "code",
   "execution_count": 7,
   "metadata": {
    "scrolled": true
   },
   "outputs": [
    {
     "name": "stdout",
     "output_type": "stream",
     "text": [
      "463598\n",
      "<class 'pandas.core.frame.DataFrame'>\n",
      "RangeIndex: 463598 entries, 0 to 463597\n",
      "Data columns (total 7 columns):\n",
      "date               463598 non-null object\n",
      "customer_id        463598 non-null int64\n",
      "item_id            463598 non-null int64\n",
      "quantity           463598 non-null int64\n",
      "selling_price      463598 non-null float64\n",
      "other_discount     463598 non-null float64\n",
      "coupon_discount    463598 non-null float64\n",
      "dtypes: float64(3), int64(3), object(1)\n",
      "memory usage: 24.8+ MB\n"
     ]
    }
   ],
   "source": [
    "print(len(customer_transaction_data))\n",
    "customer_transaction_data.info()"
   ]
  },
  {
   "cell_type": "code",
   "execution_count": 8,
   "metadata": {},
   "outputs": [
    {
     "name": "stdout",
     "output_type": "stream",
     "text": [
      "74066\n",
      "<class 'pandas.core.frame.DataFrame'>\n",
      "RangeIndex: 74066 entries, 0 to 74065\n",
      "Data columns (total 4 columns):\n",
      "item_id       74066 non-null int64\n",
      "brand         74066 non-null int64\n",
      "brand_type    74066 non-null object\n",
      "category      74066 non-null object\n",
      "dtypes: int64(2), object(2)\n",
      "memory usage: 2.3+ MB\n"
     ]
    }
   ],
   "source": [
    "print(len(item_data))\n",
    "item_data.info()"
   ]
  },
  {
   "cell_type": "code",
   "execution_count": 9,
   "metadata": {},
   "outputs": [],
   "source": [
    "df_customer = pd.merge(train,customer_transaction_data,on='customer_id',how='inner')"
   ]
  },
  {
   "cell_type": "code",
   "execution_count": 10,
   "metadata": {},
   "outputs": [],
   "source": [
    "df_customer = pd.merge(df_customer,customer_demographics,on='customer_id',how='inner')"
   ]
  },
  {
   "cell_type": "code",
   "execution_count": 11,
   "metadata": {},
   "outputs": [],
   "source": [
    "df_train_capaign_data = pd.merge(df_customer,campaign_data,how='inner',on='campaign_id')"
   ]
  },
  {
   "cell_type": "code",
   "execution_count": 12,
   "metadata": {},
   "outputs": [],
   "source": [
    "df_item = pd.merge(coupon_item_mapping,item_data,how='inner',on='item_id')"
   ]
  },
  {
   "cell_type": "code",
   "execution_count": 13,
   "metadata": {},
   "outputs": [
    {
     "name": "stdout",
     "output_type": "stream",
     "text": [
      "<class 'pandas.core.frame.DataFrame'>\n",
      "Int64Index: 18471244 entries, 0 to 18471243\n",
      "Data columns (total 20 columns):\n",
      "id                   int64\n",
      "campaign_id          int64\n",
      "coupon_id            int64\n",
      "customer_id          int64\n",
      "redemption_status    int64\n",
      "date                 object\n",
      "item_id              int64\n",
      "quantity             int64\n",
      "selling_price        float64\n",
      "other_discount       float64\n",
      "coupon_discount      float64\n",
      "age_range            object\n",
      "marital_status       object\n",
      "rented               int64\n",
      "family_size          object\n",
      "no_of_children       object\n",
      "income_bracket       int64\n",
      "campaign_type        object\n",
      "start_date           object\n",
      "end_date             object\n",
      "dtypes: float64(3), int64(9), object(8)\n",
      "memory usage: 2.9+ GB\n"
     ]
    }
   ],
   "source": [
    "df_train_capaign_data.info()"
   ]
  },
  {
   "cell_type": "code",
   "execution_count": 14,
   "metadata": {},
   "outputs": [],
   "source": [
    "#df_customer.to_csv(\"df3.csv\",index_label=False)"
   ]
  },
  {
   "cell_type": "code",
   "execution_count": 15,
   "metadata": {},
   "outputs": [],
   "source": [
    "df_train_capaign_data.drop_duplicates(inplace=True)"
   ]
  },
  {
   "cell_type": "code",
   "execution_count": 16,
   "metadata": {},
   "outputs": [
    {
     "data": {
      "text/plain": [
       "0"
      ]
     },
     "execution_count": 16,
     "metadata": {},
     "output_type": "execute_result"
    }
   ],
   "source": [
    "df_train_capaign_data.duplicated().sum()"
   ]
  },
  {
   "cell_type": "code",
   "execution_count": 17,
   "metadata": {},
   "outputs": [
    {
     "name": "stdout",
     "output_type": "stream",
     "text": [
      "<class 'pandas.core.frame.DataFrame'>\n",
      "Int64Index: 18444701 entries, 0 to 18471243\n",
      "Data columns (total 20 columns):\n",
      "id                   int64\n",
      "campaign_id          int64\n",
      "coupon_id            int64\n",
      "customer_id          int64\n",
      "redemption_status    int64\n",
      "date                 object\n",
      "item_id              int64\n",
      "quantity             int64\n",
      "selling_price        float64\n",
      "other_discount       float64\n",
      "coupon_discount      float64\n",
      "age_range            object\n",
      "marital_status       object\n",
      "rented               int64\n",
      "family_size          object\n",
      "no_of_children       object\n",
      "income_bracket       int64\n",
      "campaign_type        object\n",
      "start_date           object\n",
      "end_date             object\n",
      "dtypes: float64(3), int64(9), object(8)\n",
      "memory usage: 2.9+ GB\n"
     ]
    }
   ],
   "source": [
    "df_train_capaign_data.info()"
   ]
  },
  {
   "cell_type": "code",
   "execution_count": 18,
   "metadata": {},
   "outputs": [],
   "source": [
    "del train\n",
    "del campaign_data\n",
    "del coupon_item_mapping\n",
    "del customer_demographics\n",
    "del customer_transaction_data\n",
    "del item_data\n",
    "del df_customer\n",
    "#del df_customer"
   ]
  },
  {
   "cell_type": "code",
   "execution_count": 19,
   "metadata": {},
   "outputs": [],
   "source": [
    "#df_train_capaign_data.merge(df_item,on='coupon_id').to_csv('your_coupon.csv', index=False)"
   ]
  },
  {
   "cell_type": "code",
   "execution_count": 20,
   "metadata": {},
   "outputs": [
    {
     "ename": "NameError",
     "evalue": "name 'df' is not defined",
     "output_type": "error",
     "traceback": [
      "\u001b[1;31m---------------------------------------------------------------------------\u001b[0m",
      "\u001b[1;31mNameError\u001b[0m                                 Traceback (most recent call last)",
      "\u001b[1;32m<ipython-input-20-a74c58233b9e>\u001b[0m in \u001b[0;36m<module>\u001b[1;34m\u001b[0m\n\u001b[1;32m----> 1\u001b[1;33m \u001b[0mdf\u001b[0m\u001b[1;33m.\u001b[0m\u001b[0minfo\u001b[0m\u001b[1;33m(\u001b[0m\u001b[1;33m)\u001b[0m\u001b[1;33m\u001b[0m\u001b[1;33m\u001b[0m\u001b[0m\n\u001b[0m",
      "\u001b[1;31mNameError\u001b[0m: name 'df' is not defined"
     ]
    }
   ],
   "source": [
    "#df.info()"
   ]
  },
  {
   "cell_type": "code",
   "execution_count": 21,
   "metadata": {},
   "outputs": [
    {
     "name": "stdout",
     "output_type": "stream",
     "text": [
      "<class 'pandas.core.frame.DataFrame'>\n",
      "Int64Index: 18444701 entries, 0 to 18471243\n",
      "Data columns (total 20 columns):\n",
      "id                   int64\n",
      "campaign_id          int64\n",
      "coupon_id            int64\n",
      "customer_id          int64\n",
      "redemption_status    int64\n",
      "date                 object\n",
      "item_id              int64\n",
      "quantity             int64\n",
      "selling_price        float64\n",
      "other_discount       float64\n",
      "coupon_discount      float64\n",
      "age_range            object\n",
      "marital_status       object\n",
      "rented               int64\n",
      "family_size          object\n",
      "no_of_children       object\n",
      "income_bracket       int64\n",
      "campaign_type        object\n",
      "start_date           object\n",
      "end_date             object\n",
      "dtypes: float64(3), int64(9), object(8)\n",
      "memory usage: 2.9+ GB\n"
     ]
    }
   ],
   "source": [
    "df_train_capaign_data.info()"
   ]
  },
  {
   "cell_type": "code",
   "execution_count": 22,
   "metadata": {},
   "outputs": [
    {
     "data": {
      "text/html": [
       "<div>\n",
       "<style scoped>\n",
       "    .dataframe tbody tr th:only-of-type {\n",
       "        vertical-align: middle;\n",
       "    }\n",
       "\n",
       "    .dataframe tbody tr th {\n",
       "        vertical-align: top;\n",
       "    }\n",
       "\n",
       "    .dataframe thead th {\n",
       "        text-align: right;\n",
       "    }\n",
       "</style>\n",
       "<table border=\"1\" class=\"dataframe\">\n",
       "  <thead>\n",
       "    <tr style=\"text-align: right;\">\n",
       "      <th></th>\n",
       "      <th>id</th>\n",
       "      <th>campaign_id</th>\n",
       "      <th>coupon_id</th>\n",
       "      <th>customer_id</th>\n",
       "      <th>redemption_status</th>\n",
       "      <th>item_id</th>\n",
       "      <th>quantity</th>\n",
       "      <th>selling_price</th>\n",
       "      <th>other_discount</th>\n",
       "      <th>coupon_discount</th>\n",
       "      <th>rented</th>\n",
       "      <th>income_bracket</th>\n",
       "    </tr>\n",
       "  </thead>\n",
       "  <tbody>\n",
       "    <tr>\n",
       "      <th>count</th>\n",
       "      <td>1.844470e+07</td>\n",
       "      <td>1.844470e+07</td>\n",
       "      <td>1.844470e+07</td>\n",
       "      <td>1.844470e+07</td>\n",
       "      <td>1.844470e+07</td>\n",
       "      <td>1.844470e+07</td>\n",
       "      <td>1.844470e+07</td>\n",
       "      <td>1.844470e+07</td>\n",
       "      <td>1.844470e+07</td>\n",
       "      <td>1.844470e+07</td>\n",
       "      <td>1.844470e+07</td>\n",
       "      <td>1.844470e+07</td>\n",
       "    </tr>\n",
       "    <tr>\n",
       "      <th>mean</th>\n",
       "      <td>6.442127e+04</td>\n",
       "      <td>1.435036e+01</td>\n",
       "      <td>5.790724e+02</td>\n",
       "      <td>8.204613e+02</td>\n",
       "      <td>1.552945e-02</td>\n",
       "      <td>2.821124e+04</td>\n",
       "      <td>1.452305e+02</td>\n",
       "      <td>1.168729e+02</td>\n",
       "      <td>-1.827326e+01</td>\n",
       "      <td>-6.623755e-01</td>\n",
       "      <td>6.207084e-02</td>\n",
       "      <td>5.012994e+00</td>\n",
       "    </tr>\n",
       "    <tr>\n",
       "      <th>std</th>\n",
       "      <td>3.710024e+04</td>\n",
       "      <td>8.255666e+00</td>\n",
       "      <td>3.262845e+02</td>\n",
       "      <td>4.701047e+02</td>\n",
       "      <td>1.236458e-01</td>\n",
       "      <td>1.645075e+04</td>\n",
       "      <td>1.418386e+03</td>\n",
       "      <td>1.554888e+02</td>\n",
       "      <td>3.742342e+01</td>\n",
       "      <td>7.596996e+00</td>\n",
       "      <td>2.412842e-01</td>\n",
       "      <td>2.537905e+00</td>\n",
       "    </tr>\n",
       "    <tr>\n",
       "      <th>min</th>\n",
       "      <td>1.000000e+00</td>\n",
       "      <td>1.000000e+00</td>\n",
       "      <td>1.000000e+00</td>\n",
       "      <td>1.000000e+00</td>\n",
       "      <td>0.000000e+00</td>\n",
       "      <td>1.000000e+00</td>\n",
       "      <td>1.000000e+00</td>\n",
       "      <td>3.600000e-01</td>\n",
       "      <td>-2.340230e+03</td>\n",
       "      <td>-7.124000e+02</td>\n",
       "      <td>0.000000e+00</td>\n",
       "      <td>1.000000e+00</td>\n",
       "    </tr>\n",
       "    <tr>\n",
       "      <th>25%</th>\n",
       "      <td>3.257900e+04</td>\n",
       "      <td>8.000000e+00</td>\n",
       "      <td>3.050000e+02</td>\n",
       "      <td>4.220000e+02</td>\n",
       "      <td>0.000000e+00</td>\n",
       "      <td>1.447500e+04</td>\n",
       "      <td>1.000000e+00</td>\n",
       "      <td>5.236000e+01</td>\n",
       "      <td>-2.458000e+01</td>\n",
       "      <td>0.000000e+00</td>\n",
       "      <td>0.000000e+00</td>\n",
       "      <td>4.000000e+00</td>\n",
       "    </tr>\n",
       "    <tr>\n",
       "      <th>50%</th>\n",
       "      <td>6.434400e+04</td>\n",
       "      <td>1.300000e+01</td>\n",
       "      <td>6.080000e+02</td>\n",
       "      <td>8.010000e+02</td>\n",
       "      <td>0.000000e+00</td>\n",
       "      <td>2.570900e+04</td>\n",
       "      <td>1.000000e+00</td>\n",
       "      <td>8.157000e+01</td>\n",
       "      <td>-3.560000e+00</td>\n",
       "      <td>0.000000e+00</td>\n",
       "      <td>0.000000e+00</td>\n",
       "      <td>5.000000e+00</td>\n",
       "    </tr>\n",
       "    <tr>\n",
       "      <th>75%</th>\n",
       "      <td>9.670100e+04</td>\n",
       "      <td>1.300000e+01</td>\n",
       "      <td>8.680000e+02</td>\n",
       "      <td>1.259000e+03</td>\n",
       "      <td>0.000000e+00</td>\n",
       "      <td>3.676400e+04</td>\n",
       "      <td>1.000000e+00</td>\n",
       "      <td>1.246700e+02</td>\n",
       "      <td>0.000000e+00</td>\n",
       "      <td>0.000000e+00</td>\n",
       "      <td>0.000000e+00</td>\n",
       "      <td>6.000000e+00</td>\n",
       "    </tr>\n",
       "    <tr>\n",
       "      <th>80%</th>\n",
       "      <td>1.030760e+05</td>\n",
       "      <td>2.600000e+01</td>\n",
       "      <td>9.130000e+02</td>\n",
       "      <td>1.339000e+03</td>\n",
       "      <td>0.000000e+00</td>\n",
       "      <td>4.627400e+04</td>\n",
       "      <td>1.000000e+00</td>\n",
       "      <td>1.421200e+02</td>\n",
       "      <td>0.000000e+00</td>\n",
       "      <td>0.000000e+00</td>\n",
       "      <td>0.000000e+00</td>\n",
       "      <td>7.000000e+00</td>\n",
       "    </tr>\n",
       "    <tr>\n",
       "      <th>85%</th>\n",
       "      <td>1.094460e+05</td>\n",
       "      <td>2.700000e+01</td>\n",
       "      <td>9.700000e+02</td>\n",
       "      <td>1.392000e+03</td>\n",
       "      <td>0.000000e+00</td>\n",
       "      <td>4.930600e+04</td>\n",
       "      <td>2.000000e+00</td>\n",
       "      <td>1.738300e+02</td>\n",
       "      <td>0.000000e+00</td>\n",
       "      <td>0.000000e+00</td>\n",
       "      <td>0.000000e+00</td>\n",
       "      <td>8.000000e+00</td>\n",
       "    </tr>\n",
       "    <tr>\n",
       "      <th>90%</th>\n",
       "      <td>1.158840e+05</td>\n",
       "      <td>2.900000e+01</td>\n",
       "      <td>1.012000e+03</td>\n",
       "      <td>1.460000e+03</td>\n",
       "      <td>0.000000e+00</td>\n",
       "      <td>5.367400e+04</td>\n",
       "      <td>2.000000e+00</td>\n",
       "      <td>2.130100e+02</td>\n",
       "      <td>0.000000e+00</td>\n",
       "      <td>0.000000e+00</td>\n",
       "      <td>0.000000e+00</td>\n",
       "      <td>9.000000e+00</td>\n",
       "    </tr>\n",
       "    <tr>\n",
       "      <th>95%</th>\n",
       "      <td>1.222540e+05</td>\n",
       "      <td>3.000000e+01</td>\n",
       "      <td>1.058000e+03</td>\n",
       "      <td>1.489000e+03</td>\n",
       "      <td>0.000000e+00</td>\n",
       "      <td>5.881100e+04</td>\n",
       "      <td>3.000000e+00</td>\n",
       "      <td>2.913700e+02</td>\n",
       "      <td>0.000000e+00</td>\n",
       "      <td>0.000000e+00</td>\n",
       "      <td>1.000000e+00</td>\n",
       "      <td>1.000000e+01</td>\n",
       "    </tr>\n",
       "    <tr>\n",
       "      <th>max</th>\n",
       "      <td>1.285920e+05</td>\n",
       "      <td>3.000000e+01</td>\n",
       "      <td>1.115000e+03</td>\n",
       "      <td>1.581000e+03</td>\n",
       "      <td>1.000000e+00</td>\n",
       "      <td>6.779800e+04</td>\n",
       "      <td>8.505500e+04</td>\n",
       "      <td>7.480200e+03</td>\n",
       "      <td>0.000000e+00</td>\n",
       "      <td>0.000000e+00</td>\n",
       "      <td>1.000000e+00</td>\n",
       "      <td>1.200000e+01</td>\n",
       "    </tr>\n",
       "  </tbody>\n",
       "</table>\n",
       "</div>"
      ],
      "text/plain": [
       "                 id   campaign_id     coupon_id   customer_id  \\\n",
       "count  1.844470e+07  1.844470e+07  1.844470e+07  1.844470e+07   \n",
       "mean   6.442127e+04  1.435036e+01  5.790724e+02  8.204613e+02   \n",
       "std    3.710024e+04  8.255666e+00  3.262845e+02  4.701047e+02   \n",
       "min    1.000000e+00  1.000000e+00  1.000000e+00  1.000000e+00   \n",
       "25%    3.257900e+04  8.000000e+00  3.050000e+02  4.220000e+02   \n",
       "50%    6.434400e+04  1.300000e+01  6.080000e+02  8.010000e+02   \n",
       "75%    9.670100e+04  1.300000e+01  8.680000e+02  1.259000e+03   \n",
       "80%    1.030760e+05  2.600000e+01  9.130000e+02  1.339000e+03   \n",
       "85%    1.094460e+05  2.700000e+01  9.700000e+02  1.392000e+03   \n",
       "90%    1.158840e+05  2.900000e+01  1.012000e+03  1.460000e+03   \n",
       "95%    1.222540e+05  3.000000e+01  1.058000e+03  1.489000e+03   \n",
       "max    1.285920e+05  3.000000e+01  1.115000e+03  1.581000e+03   \n",
       "\n",
       "       redemption_status       item_id      quantity  selling_price  \\\n",
       "count       1.844470e+07  1.844470e+07  1.844470e+07   1.844470e+07   \n",
       "mean        1.552945e-02  2.821124e+04  1.452305e+02   1.168729e+02   \n",
       "std         1.236458e-01  1.645075e+04  1.418386e+03   1.554888e+02   \n",
       "min         0.000000e+00  1.000000e+00  1.000000e+00   3.600000e-01   \n",
       "25%         0.000000e+00  1.447500e+04  1.000000e+00   5.236000e+01   \n",
       "50%         0.000000e+00  2.570900e+04  1.000000e+00   8.157000e+01   \n",
       "75%         0.000000e+00  3.676400e+04  1.000000e+00   1.246700e+02   \n",
       "80%         0.000000e+00  4.627400e+04  1.000000e+00   1.421200e+02   \n",
       "85%         0.000000e+00  4.930600e+04  2.000000e+00   1.738300e+02   \n",
       "90%         0.000000e+00  5.367400e+04  2.000000e+00   2.130100e+02   \n",
       "95%         0.000000e+00  5.881100e+04  3.000000e+00   2.913700e+02   \n",
       "max         1.000000e+00  6.779800e+04  8.505500e+04   7.480200e+03   \n",
       "\n",
       "       other_discount  coupon_discount        rented  income_bracket  \n",
       "count    1.844470e+07     1.844470e+07  1.844470e+07    1.844470e+07  \n",
       "mean    -1.827326e+01    -6.623755e-01  6.207084e-02    5.012994e+00  \n",
       "std      3.742342e+01     7.596996e+00  2.412842e-01    2.537905e+00  \n",
       "min     -2.340230e+03    -7.124000e+02  0.000000e+00    1.000000e+00  \n",
       "25%     -2.458000e+01     0.000000e+00  0.000000e+00    4.000000e+00  \n",
       "50%     -3.560000e+00     0.000000e+00  0.000000e+00    5.000000e+00  \n",
       "75%      0.000000e+00     0.000000e+00  0.000000e+00    6.000000e+00  \n",
       "80%      0.000000e+00     0.000000e+00  0.000000e+00    7.000000e+00  \n",
       "85%      0.000000e+00     0.000000e+00  0.000000e+00    8.000000e+00  \n",
       "90%      0.000000e+00     0.000000e+00  0.000000e+00    9.000000e+00  \n",
       "95%      0.000000e+00     0.000000e+00  1.000000e+00    1.000000e+01  \n",
       "max      0.000000e+00     0.000000e+00  1.000000e+00    1.200000e+01  "
      ]
     },
     "execution_count": 22,
     "metadata": {},
     "output_type": "execute_result"
    }
   ],
   "source": [
    "df_train_capaign_data.describe(percentiles=[0.25,0.50,0.75,0.80,0.85,0.90,0.95])"
   ]
  },
  {
   "cell_type": "code",
   "execution_count": 23,
   "metadata": {},
   "outputs": [
    {
     "data": {
      "text/plain": [
       "Index(['id', 'campaign_id', 'coupon_id', 'customer_id', 'redemption_status',\n",
       "       'date', 'item_id', 'quantity', 'selling_price', 'other_discount',\n",
       "       'coupon_discount', 'age_range', 'marital_status', 'rented',\n",
       "       'family_size', 'no_of_children', 'income_bracket', 'campaign_type',\n",
       "       'start_date', 'end_date'],\n",
       "      dtype='object')"
      ]
     },
     "execution_count": 23,
     "metadata": {},
     "output_type": "execute_result"
    }
   ],
   "source": [
    "df_train_capaign_data.columns"
   ]
  },
  {
   "cell_type": "code",
   "execution_count": 24,
   "metadata": {},
   "outputs": [],
   "source": [
    "col = ['id','coupon_id','redemption_status',\n",
    "       'date', 'quantity', 'selling_price', 'other_discount',\n",
    "       'coupon_discount', 'age_range', 'marital_status', 'rented',\n",
    "       'family_size', 'no_of_children', 'income_bracket', 'campaign_type',\n",
    "       'start_date', 'end_date']"
   ]
  },
  {
   "cell_type": "code",
   "execution_count": 25,
   "metadata": {},
   "outputs": [
    {
     "name": "stdout",
     "output_type": "stream",
     "text": [
      "<class 'pandas.core.frame.DataFrame'>\n",
      "Int64Index: 18444701 entries, 0 to 18471243\n",
      "Data columns (total 17 columns):\n",
      "id                   int64\n",
      "coupon_id            int64\n",
      "redemption_status    int64\n",
      "date                 object\n",
      "quantity             int64\n",
      "selling_price        float64\n",
      "other_discount       float64\n",
      "coupon_discount      float64\n",
      "age_range            object\n",
      "marital_status       object\n",
      "rented               int64\n",
      "family_size          object\n",
      "no_of_children       object\n",
      "income_bracket       int64\n",
      "campaign_type        object\n",
      "start_date           object\n",
      "end_date             object\n",
      "dtypes: float64(3), int64(6), object(8)\n",
      "memory usage: 2.5+ GB\n"
     ]
    }
   ],
   "source": [
    "df_train_capaign_data[col].info()"
   ]
  },
  {
   "cell_type": "code",
   "execution_count": 26,
   "metadata": {},
   "outputs": [],
   "source": [
    "df_train_capaign_data = df_train_capaign_data[col]"
   ]
  },
  {
   "cell_type": "code",
   "execution_count": 27,
   "metadata": {},
   "outputs": [],
   "source": [
    "#df_train_capaign_data.merge(df_item,on='coupon_id',how='inner')"
   ]
  },
  {
   "cell_type": "code",
   "execution_count": 28,
   "metadata": {},
   "outputs": [
    {
     "data": {
      "text/html": [
       "<div>\n",
       "<style scoped>\n",
       "    .dataframe tbody tr th:only-of-type {\n",
       "        vertical-align: middle;\n",
       "    }\n",
       "\n",
       "    .dataframe tbody tr th {\n",
       "        vertical-align: top;\n",
       "    }\n",
       "\n",
       "    .dataframe thead th {\n",
       "        text-align: right;\n",
       "    }\n",
       "</style>\n",
       "<table border=\"1\" class=\"dataframe\">\n",
       "  <thead>\n",
       "    <tr style=\"text-align: right;\">\n",
       "      <th></th>\n",
       "      <th>id</th>\n",
       "      <th>coupon_id</th>\n",
       "      <th>redemption_status</th>\n",
       "      <th>quantity</th>\n",
       "      <th>selling_price</th>\n",
       "      <th>other_discount</th>\n",
       "      <th>coupon_discount</th>\n",
       "      <th>rented</th>\n",
       "      <th>income_bracket</th>\n",
       "    </tr>\n",
       "  </thead>\n",
       "  <tbody>\n",
       "    <tr>\n",
       "      <th>count</th>\n",
       "      <td>1.844470e+07</td>\n",
       "      <td>1.844470e+07</td>\n",
       "      <td>1.844470e+07</td>\n",
       "      <td>1.844470e+07</td>\n",
       "      <td>1.844470e+07</td>\n",
       "      <td>1.844470e+07</td>\n",
       "      <td>1.844470e+07</td>\n",
       "      <td>1.844470e+07</td>\n",
       "      <td>1.844470e+07</td>\n",
       "    </tr>\n",
       "    <tr>\n",
       "      <th>mean</th>\n",
       "      <td>6.442127e+04</td>\n",
       "      <td>5.790724e+02</td>\n",
       "      <td>1.552945e-02</td>\n",
       "      <td>1.452305e+02</td>\n",
       "      <td>1.168729e+02</td>\n",
       "      <td>-1.827326e+01</td>\n",
       "      <td>-6.623755e-01</td>\n",
       "      <td>6.207084e-02</td>\n",
       "      <td>5.012994e+00</td>\n",
       "    </tr>\n",
       "    <tr>\n",
       "      <th>std</th>\n",
       "      <td>3.710024e+04</td>\n",
       "      <td>3.262845e+02</td>\n",
       "      <td>1.236458e-01</td>\n",
       "      <td>1.418386e+03</td>\n",
       "      <td>1.554888e+02</td>\n",
       "      <td>3.742342e+01</td>\n",
       "      <td>7.596996e+00</td>\n",
       "      <td>2.412842e-01</td>\n",
       "      <td>2.537905e+00</td>\n",
       "    </tr>\n",
       "    <tr>\n",
       "      <th>min</th>\n",
       "      <td>1.000000e+00</td>\n",
       "      <td>1.000000e+00</td>\n",
       "      <td>0.000000e+00</td>\n",
       "      <td>1.000000e+00</td>\n",
       "      <td>3.600000e-01</td>\n",
       "      <td>-2.340230e+03</td>\n",
       "      <td>-7.124000e+02</td>\n",
       "      <td>0.000000e+00</td>\n",
       "      <td>1.000000e+00</td>\n",
       "    </tr>\n",
       "    <tr>\n",
       "      <th>25%</th>\n",
       "      <td>3.257900e+04</td>\n",
       "      <td>3.050000e+02</td>\n",
       "      <td>0.000000e+00</td>\n",
       "      <td>1.000000e+00</td>\n",
       "      <td>5.236000e+01</td>\n",
       "      <td>-2.458000e+01</td>\n",
       "      <td>0.000000e+00</td>\n",
       "      <td>0.000000e+00</td>\n",
       "      <td>4.000000e+00</td>\n",
       "    </tr>\n",
       "    <tr>\n",
       "      <th>50%</th>\n",
       "      <td>6.434400e+04</td>\n",
       "      <td>6.080000e+02</td>\n",
       "      <td>0.000000e+00</td>\n",
       "      <td>1.000000e+00</td>\n",
       "      <td>8.157000e+01</td>\n",
       "      <td>-3.560000e+00</td>\n",
       "      <td>0.000000e+00</td>\n",
       "      <td>0.000000e+00</td>\n",
       "      <td>5.000000e+00</td>\n",
       "    </tr>\n",
       "    <tr>\n",
       "      <th>75%</th>\n",
       "      <td>9.670100e+04</td>\n",
       "      <td>8.680000e+02</td>\n",
       "      <td>0.000000e+00</td>\n",
       "      <td>1.000000e+00</td>\n",
       "      <td>1.246700e+02</td>\n",
       "      <td>0.000000e+00</td>\n",
       "      <td>0.000000e+00</td>\n",
       "      <td>0.000000e+00</td>\n",
       "      <td>6.000000e+00</td>\n",
       "    </tr>\n",
       "    <tr>\n",
       "      <th>max</th>\n",
       "      <td>1.285920e+05</td>\n",
       "      <td>1.115000e+03</td>\n",
       "      <td>1.000000e+00</td>\n",
       "      <td>8.505500e+04</td>\n",
       "      <td>7.480200e+03</td>\n",
       "      <td>0.000000e+00</td>\n",
       "      <td>0.000000e+00</td>\n",
       "      <td>1.000000e+00</td>\n",
       "      <td>1.200000e+01</td>\n",
       "    </tr>\n",
       "  </tbody>\n",
       "</table>\n",
       "</div>"
      ],
      "text/plain": [
       "                 id     coupon_id  redemption_status      quantity  \\\n",
       "count  1.844470e+07  1.844470e+07       1.844470e+07  1.844470e+07   \n",
       "mean   6.442127e+04  5.790724e+02       1.552945e-02  1.452305e+02   \n",
       "std    3.710024e+04  3.262845e+02       1.236458e-01  1.418386e+03   \n",
       "min    1.000000e+00  1.000000e+00       0.000000e+00  1.000000e+00   \n",
       "25%    3.257900e+04  3.050000e+02       0.000000e+00  1.000000e+00   \n",
       "50%    6.434400e+04  6.080000e+02       0.000000e+00  1.000000e+00   \n",
       "75%    9.670100e+04  8.680000e+02       0.000000e+00  1.000000e+00   \n",
       "max    1.285920e+05  1.115000e+03       1.000000e+00  8.505500e+04   \n",
       "\n",
       "       selling_price  other_discount  coupon_discount        rented  \\\n",
       "count   1.844470e+07    1.844470e+07     1.844470e+07  1.844470e+07   \n",
       "mean    1.168729e+02   -1.827326e+01    -6.623755e-01  6.207084e-02   \n",
       "std     1.554888e+02    3.742342e+01     7.596996e+00  2.412842e-01   \n",
       "min     3.600000e-01   -2.340230e+03    -7.124000e+02  0.000000e+00   \n",
       "25%     5.236000e+01   -2.458000e+01     0.000000e+00  0.000000e+00   \n",
       "50%     8.157000e+01   -3.560000e+00     0.000000e+00  0.000000e+00   \n",
       "75%     1.246700e+02    0.000000e+00     0.000000e+00  0.000000e+00   \n",
       "max     7.480200e+03    0.000000e+00     0.000000e+00  1.000000e+00   \n",
       "\n",
       "       income_bracket  \n",
       "count    1.844470e+07  \n",
       "mean     5.012994e+00  \n",
       "std      2.537905e+00  \n",
       "min      1.000000e+00  \n",
       "25%      4.000000e+00  \n",
       "50%      5.000000e+00  \n",
       "75%      6.000000e+00  \n",
       "max      1.200000e+01  "
      ]
     },
     "execution_count": 28,
     "metadata": {},
     "output_type": "execute_result"
    }
   ],
   "source": [
    "df_train_capaign_data.describe()"
   ]
  },
  {
   "cell_type": "code",
   "execution_count": 29,
   "metadata": {},
   "outputs": [],
   "source": [
    "#df_train_capaign_data.pop('item_id')"
   ]
  },
  {
   "cell_type": "code",
   "execution_count": 30,
   "metadata": {},
   "outputs": [
    {
     "data": {
      "text/html": [
       "<div>\n",
       "<style scoped>\n",
       "    .dataframe tbody tr th:only-of-type {\n",
       "        vertical-align: middle;\n",
       "    }\n",
       "\n",
       "    .dataframe tbody tr th {\n",
       "        vertical-align: top;\n",
       "    }\n",
       "\n",
       "    .dataframe thead th {\n",
       "        text-align: right;\n",
       "    }\n",
       "</style>\n",
       "<table border=\"1\" class=\"dataframe\">\n",
       "  <thead>\n",
       "    <tr style=\"text-align: right;\">\n",
       "      <th></th>\n",
       "      <th>id</th>\n",
       "      <th>coupon_id</th>\n",
       "      <th>redemption_status</th>\n",
       "      <th>quantity</th>\n",
       "      <th>selling_price</th>\n",
       "      <th>other_discount</th>\n",
       "      <th>coupon_discount</th>\n",
       "      <th>rented</th>\n",
       "      <th>income_bracket</th>\n",
       "    </tr>\n",
       "  </thead>\n",
       "  <tbody>\n",
       "    <tr>\n",
       "      <th>count</th>\n",
       "      <td>1.844470e+07</td>\n",
       "      <td>1.844470e+07</td>\n",
       "      <td>1.844470e+07</td>\n",
       "      <td>1.844470e+07</td>\n",
       "      <td>1.844470e+07</td>\n",
       "      <td>1.844470e+07</td>\n",
       "      <td>1.844470e+07</td>\n",
       "      <td>1.844470e+07</td>\n",
       "      <td>1.844470e+07</td>\n",
       "    </tr>\n",
       "    <tr>\n",
       "      <th>mean</th>\n",
       "      <td>6.442127e+04</td>\n",
       "      <td>5.790724e+02</td>\n",
       "      <td>1.552945e-02</td>\n",
       "      <td>1.452305e+02</td>\n",
       "      <td>1.168729e+02</td>\n",
       "      <td>-1.827326e+01</td>\n",
       "      <td>-6.623755e-01</td>\n",
       "      <td>6.207084e-02</td>\n",
       "      <td>5.012994e+00</td>\n",
       "    </tr>\n",
       "    <tr>\n",
       "      <th>std</th>\n",
       "      <td>3.710024e+04</td>\n",
       "      <td>3.262845e+02</td>\n",
       "      <td>1.236458e-01</td>\n",
       "      <td>1.418386e+03</td>\n",
       "      <td>1.554888e+02</td>\n",
       "      <td>3.742342e+01</td>\n",
       "      <td>7.596996e+00</td>\n",
       "      <td>2.412842e-01</td>\n",
       "      <td>2.537905e+00</td>\n",
       "    </tr>\n",
       "    <tr>\n",
       "      <th>min</th>\n",
       "      <td>1.000000e+00</td>\n",
       "      <td>1.000000e+00</td>\n",
       "      <td>0.000000e+00</td>\n",
       "      <td>1.000000e+00</td>\n",
       "      <td>3.600000e-01</td>\n",
       "      <td>-2.340230e+03</td>\n",
       "      <td>-7.124000e+02</td>\n",
       "      <td>0.000000e+00</td>\n",
       "      <td>1.000000e+00</td>\n",
       "    </tr>\n",
       "    <tr>\n",
       "      <th>25%</th>\n",
       "      <td>3.257900e+04</td>\n",
       "      <td>3.050000e+02</td>\n",
       "      <td>0.000000e+00</td>\n",
       "      <td>1.000000e+00</td>\n",
       "      <td>5.236000e+01</td>\n",
       "      <td>-2.458000e+01</td>\n",
       "      <td>0.000000e+00</td>\n",
       "      <td>0.000000e+00</td>\n",
       "      <td>4.000000e+00</td>\n",
       "    </tr>\n",
       "    <tr>\n",
       "      <th>50%</th>\n",
       "      <td>6.434400e+04</td>\n",
       "      <td>6.080000e+02</td>\n",
       "      <td>0.000000e+00</td>\n",
       "      <td>1.000000e+00</td>\n",
       "      <td>8.157000e+01</td>\n",
       "      <td>-3.560000e+00</td>\n",
       "      <td>0.000000e+00</td>\n",
       "      <td>0.000000e+00</td>\n",
       "      <td>5.000000e+00</td>\n",
       "    </tr>\n",
       "    <tr>\n",
       "      <th>75%</th>\n",
       "      <td>9.670100e+04</td>\n",
       "      <td>8.680000e+02</td>\n",
       "      <td>0.000000e+00</td>\n",
       "      <td>1.000000e+00</td>\n",
       "      <td>1.246700e+02</td>\n",
       "      <td>0.000000e+00</td>\n",
       "      <td>0.000000e+00</td>\n",
       "      <td>0.000000e+00</td>\n",
       "      <td>6.000000e+00</td>\n",
       "    </tr>\n",
       "    <tr>\n",
       "      <th>max</th>\n",
       "      <td>1.285920e+05</td>\n",
       "      <td>1.115000e+03</td>\n",
       "      <td>1.000000e+00</td>\n",
       "      <td>8.505500e+04</td>\n",
       "      <td>7.480200e+03</td>\n",
       "      <td>0.000000e+00</td>\n",
       "      <td>0.000000e+00</td>\n",
       "      <td>1.000000e+00</td>\n",
       "      <td>1.200000e+01</td>\n",
       "    </tr>\n",
       "  </tbody>\n",
       "</table>\n",
       "</div>"
      ],
      "text/plain": [
       "                 id     coupon_id  redemption_status      quantity  \\\n",
       "count  1.844470e+07  1.844470e+07       1.844470e+07  1.844470e+07   \n",
       "mean   6.442127e+04  5.790724e+02       1.552945e-02  1.452305e+02   \n",
       "std    3.710024e+04  3.262845e+02       1.236458e-01  1.418386e+03   \n",
       "min    1.000000e+00  1.000000e+00       0.000000e+00  1.000000e+00   \n",
       "25%    3.257900e+04  3.050000e+02       0.000000e+00  1.000000e+00   \n",
       "50%    6.434400e+04  6.080000e+02       0.000000e+00  1.000000e+00   \n",
       "75%    9.670100e+04  8.680000e+02       0.000000e+00  1.000000e+00   \n",
       "max    1.285920e+05  1.115000e+03       1.000000e+00  8.505500e+04   \n",
       "\n",
       "       selling_price  other_discount  coupon_discount        rented  \\\n",
       "count   1.844470e+07    1.844470e+07     1.844470e+07  1.844470e+07   \n",
       "mean    1.168729e+02   -1.827326e+01    -6.623755e-01  6.207084e-02   \n",
       "std     1.554888e+02    3.742342e+01     7.596996e+00  2.412842e-01   \n",
       "min     3.600000e-01   -2.340230e+03    -7.124000e+02  0.000000e+00   \n",
       "25%     5.236000e+01   -2.458000e+01     0.000000e+00  0.000000e+00   \n",
       "50%     8.157000e+01   -3.560000e+00     0.000000e+00  0.000000e+00   \n",
       "75%     1.246700e+02    0.000000e+00     0.000000e+00  0.000000e+00   \n",
       "max     7.480200e+03    0.000000e+00     0.000000e+00  1.000000e+00   \n",
       "\n",
       "       income_bracket  \n",
       "count    1.844470e+07  \n",
       "mean     5.012994e+00  \n",
       "std      2.537905e+00  \n",
       "min      1.000000e+00  \n",
       "25%      4.000000e+00  \n",
       "50%      5.000000e+00  \n",
       "75%      6.000000e+00  \n",
       "max      1.200000e+01  "
      ]
     },
     "execution_count": 30,
     "metadata": {},
     "output_type": "execute_result"
    }
   ],
   "source": [
    "df_train_capaign_data.describe()"
   ]
  },
  {
   "cell_type": "code",
   "execution_count": 31,
   "metadata": {},
   "outputs": [],
   "source": [
    "df = df_train_capaign_data.copy()"
   ]
  },
  {
   "cell_type": "code",
   "execution_count": 32,
   "metadata": {},
   "outputs": [],
   "source": [
    "del df_train_capaign_data"
   ]
  },
  {
   "cell_type": "code",
   "execution_count": 33,
   "metadata": {},
   "outputs": [
    {
     "name": "stdout",
     "output_type": "stream",
     "text": [
      "<class 'pandas.core.frame.DataFrame'>\n",
      "Int64Index: 18444701 entries, 0 to 18471243\n",
      "Data columns (total 17 columns):\n",
      "id                   int64\n",
      "coupon_id            int64\n",
      "redemption_status    int64\n",
      "date                 object\n",
      "quantity             int64\n",
      "selling_price        float64\n",
      "other_discount       float64\n",
      "coupon_discount      float64\n",
      "age_range            object\n",
      "marital_status       object\n",
      "rented               int64\n",
      "family_size          object\n",
      "no_of_children       object\n",
      "income_bracket       int64\n",
      "campaign_type        object\n",
      "start_date           object\n",
      "end_date             object\n",
      "dtypes: float64(3), int64(6), object(8)\n",
      "memory usage: 2.5+ GB\n"
     ]
    }
   ],
   "source": [
    "df.info()"
   ]
  },
  {
   "cell_type": "code",
   "execution_count": 34,
   "metadata": {},
   "outputs": [
    {
     "data": {
      "text/plain": [
       "Index(['id', 'coupon_id', 'redemption_status', 'date', 'quantity',\n",
       "       'selling_price', 'other_discount', 'coupon_discount', 'age_range',\n",
       "       'marital_status', 'rented', 'family_size', 'no_of_children',\n",
       "       'income_bracket', 'campaign_type', 'start_date', 'end_date'],\n",
       "      dtype='object')"
      ]
     },
     "execution_count": 34,
     "metadata": {},
     "output_type": "execute_result"
    }
   ],
   "source": [
    "df.columns"
   ]
  },
  {
   "cell_type": "code",
   "execution_count": 35,
   "metadata": {},
   "outputs": [
    {
     "data": {
      "text/html": [
       "<div>\n",
       "<style scoped>\n",
       "    .dataframe tbody tr th:only-of-type {\n",
       "        vertical-align: middle;\n",
       "    }\n",
       "\n",
       "    .dataframe tbody tr th {\n",
       "        vertical-align: top;\n",
       "    }\n",
       "\n",
       "    .dataframe thead th {\n",
       "        text-align: right;\n",
       "    }\n",
       "</style>\n",
       "<table border=\"1\" class=\"dataframe\">\n",
       "  <thead>\n",
       "    <tr style=\"text-align: right;\">\n",
       "      <th></th>\n",
       "      <th>id</th>\n",
       "      <th>coupon_id</th>\n",
       "      <th>redemption_status</th>\n",
       "      <th>date</th>\n",
       "      <th>quantity</th>\n",
       "      <th>selling_price</th>\n",
       "      <th>other_discount</th>\n",
       "      <th>coupon_discount</th>\n",
       "      <th>age_range</th>\n",
       "      <th>marital_status</th>\n",
       "      <th>rented</th>\n",
       "      <th>family_size</th>\n",
       "      <th>no_of_children</th>\n",
       "      <th>income_bracket</th>\n",
       "      <th>campaign_type</th>\n",
       "      <th>start_date</th>\n",
       "      <th>end_date</th>\n",
       "    </tr>\n",
       "  </thead>\n",
       "  <tbody>\n",
       "    <tr>\n",
       "      <th>0</th>\n",
       "      <td>1</td>\n",
       "      <td>27</td>\n",
       "      <td>0</td>\n",
       "      <td>2012-01-10</td>\n",
       "      <td>1</td>\n",
       "      <td>320.22</td>\n",
       "      <td>0.00</td>\n",
       "      <td>0.0</td>\n",
       "      <td>46-55</td>\n",
       "      <td>NaN</td>\n",
       "      <td>0</td>\n",
       "      <td>1</td>\n",
       "      <td>NaN</td>\n",
       "      <td>5</td>\n",
       "      <td>X</td>\n",
       "      <td>19/05/13</td>\n",
       "      <td>05/07/13</td>\n",
       "    </tr>\n",
       "    <tr>\n",
       "      <th>1</th>\n",
       "      <td>1</td>\n",
       "      <td>27</td>\n",
       "      <td>0</td>\n",
       "      <td>2012-01-10</td>\n",
       "      <td>1</td>\n",
       "      <td>89.05</td>\n",
       "      <td>-10.33</td>\n",
       "      <td>0.0</td>\n",
       "      <td>46-55</td>\n",
       "      <td>NaN</td>\n",
       "      <td>0</td>\n",
       "      <td>1</td>\n",
       "      <td>NaN</td>\n",
       "      <td>5</td>\n",
       "      <td>X</td>\n",
       "      <td>19/05/13</td>\n",
       "      <td>05/07/13</td>\n",
       "    </tr>\n",
       "    <tr>\n",
       "      <th>2</th>\n",
       "      <td>1</td>\n",
       "      <td>27</td>\n",
       "      <td>0</td>\n",
       "      <td>2012-01-10</td>\n",
       "      <td>1</td>\n",
       "      <td>99.38</td>\n",
       "      <td>-42.74</td>\n",
       "      <td>0.0</td>\n",
       "      <td>46-55</td>\n",
       "      <td>NaN</td>\n",
       "      <td>0</td>\n",
       "      <td>1</td>\n",
       "      <td>NaN</td>\n",
       "      <td>5</td>\n",
       "      <td>X</td>\n",
       "      <td>19/05/13</td>\n",
       "      <td>05/07/13</td>\n",
       "    </tr>\n",
       "    <tr>\n",
       "      <th>3</th>\n",
       "      <td>1</td>\n",
       "      <td>27</td>\n",
       "      <td>0</td>\n",
       "      <td>2012-01-10</td>\n",
       "      <td>2</td>\n",
       "      <td>99.02</td>\n",
       "      <td>0.00</td>\n",
       "      <td>0.0</td>\n",
       "      <td>46-55</td>\n",
       "      <td>NaN</td>\n",
       "      <td>0</td>\n",
       "      <td>1</td>\n",
       "      <td>NaN</td>\n",
       "      <td>5</td>\n",
       "      <td>X</td>\n",
       "      <td>19/05/13</td>\n",
       "      <td>05/07/13</td>\n",
       "    </tr>\n",
       "    <tr>\n",
       "      <th>4</th>\n",
       "      <td>1</td>\n",
       "      <td>27</td>\n",
       "      <td>0</td>\n",
       "      <td>2012-02-04</td>\n",
       "      <td>2</td>\n",
       "      <td>99.02</td>\n",
       "      <td>0.00</td>\n",
       "      <td>0.0</td>\n",
       "      <td>46-55</td>\n",
       "      <td>NaN</td>\n",
       "      <td>0</td>\n",
       "      <td>1</td>\n",
       "      <td>NaN</td>\n",
       "      <td>5</td>\n",
       "      <td>X</td>\n",
       "      <td>19/05/13</td>\n",
       "      <td>05/07/13</td>\n",
       "    </tr>\n",
       "  </tbody>\n",
       "</table>\n",
       "</div>"
      ],
      "text/plain": [
       "   id  coupon_id  redemption_status        date  quantity  selling_price  \\\n",
       "0   1         27                  0  2012-01-10         1         320.22   \n",
       "1   1         27                  0  2012-01-10         1          89.05   \n",
       "2   1         27                  0  2012-01-10         1          99.38   \n",
       "3   1         27                  0  2012-01-10         2          99.02   \n",
       "4   1         27                  0  2012-02-04         2          99.02   \n",
       "\n",
       "   other_discount  coupon_discount age_range marital_status  rented  \\\n",
       "0            0.00              0.0     46-55            NaN       0   \n",
       "1          -10.33              0.0     46-55            NaN       0   \n",
       "2          -42.74              0.0     46-55            NaN       0   \n",
       "3            0.00              0.0     46-55            NaN       0   \n",
       "4            0.00              0.0     46-55            NaN       0   \n",
       "\n",
       "  family_size no_of_children  income_bracket campaign_type start_date  \\\n",
       "0           1            NaN               5             X   19/05/13   \n",
       "1           1            NaN               5             X   19/05/13   \n",
       "2           1            NaN               5             X   19/05/13   \n",
       "3           1            NaN               5             X   19/05/13   \n",
       "4           1            NaN               5             X   19/05/13   \n",
       "\n",
       "   end_date  \n",
       "0  05/07/13  \n",
       "1  05/07/13  \n",
       "2  05/07/13  \n",
       "3  05/07/13  \n",
       "4  05/07/13  "
      ]
     },
     "execution_count": 35,
     "metadata": {},
     "output_type": "execute_result"
    }
   ],
   "source": [
    "df.head()"
   ]
  },
  {
   "cell_type": "code",
   "execution_count": 36,
   "metadata": {},
   "outputs": [
    {
     "data": {
      "text/plain": [
       "Married    0.445708\n",
       "Single     0.138337\n",
       "Name: marital_status, dtype: float64"
      ]
     },
     "execution_count": 36,
     "metadata": {},
     "output_type": "execute_result"
    }
   ],
   "source": [
    "df['marital_status'].value_counts()/len(df)"
   ]
  },
  {
   "cell_type": "code",
   "execution_count": 37,
   "metadata": {},
   "outputs": [],
   "source": [
    "#customer_demographics['marital_status'].value_counts()/len(customer_demographics)"
   ]
  },
  {
   "cell_type": "code",
   "execution_count": 38,
   "metadata": {},
   "outputs": [],
   "source": [
    "#customer_demographics['marital_status'].unique()"
   ]
  },
  {
   "cell_type": "code",
   "execution_count": 39,
   "metadata": {},
   "outputs": [
    {
     "data": {
      "text/plain": [
       "1     0.161229\n",
       "3+    0.108504\n",
       "2     0.094708\n",
       "Name: no_of_children, dtype: float64"
      ]
     },
     "execution_count": 39,
     "metadata": {},
     "output_type": "execute_result"
    }
   ],
   "source": [
    "df['no_of_children'].value_counts()/len(df)"
   ]
  },
  {
   "cell_type": "code",
   "execution_count": 40,
   "metadata": {},
   "outputs": [],
   "source": [
    "#customer_demographics['no_of_children'].value_counts()/len(customer_demographics)"
   ]
  },
  {
   "cell_type": "code",
   "execution_count": 41,
   "metadata": {},
   "outputs": [
    {
     "data": {
      "text/plain": [
       "id                    0.00\n",
       "coupon_id             0.00\n",
       "redemption_status     0.00\n",
       "date                  0.00\n",
       "quantity              0.00\n",
       "selling_price         0.00\n",
       "other_discount        0.00\n",
       "coupon_discount       0.00\n",
       "age_range             0.00\n",
       "marital_status       41.60\n",
       "rented                0.00\n",
       "family_size           0.00\n",
       "no_of_children       63.56\n",
       "income_bracket        0.00\n",
       "campaign_type         0.00\n",
       "start_date            0.00\n",
       "end_date              0.00\n",
       "dtype: float64"
      ]
     },
     "execution_count": 41,
     "metadata": {},
     "output_type": "execute_result"
    }
   ],
   "source": [
    "round((df.isna().sum()/len(df))*100,2)"
   ]
  },
  {
   "cell_type": "code",
   "execution_count": 42,
   "metadata": {},
   "outputs": [],
   "source": [
    "df['start_date'] = pd.to_datetime(df['start_date'],format='%d/%m/%y')"
   ]
  },
  {
   "cell_type": "code",
   "execution_count": 43,
   "metadata": {},
   "outputs": [
    {
     "data": {
      "text/html": [
       "<div>\n",
       "<style scoped>\n",
       "    .dataframe tbody tr th:only-of-type {\n",
       "        vertical-align: middle;\n",
       "    }\n",
       "\n",
       "    .dataframe tbody tr th {\n",
       "        vertical-align: top;\n",
       "    }\n",
       "\n",
       "    .dataframe thead th {\n",
       "        text-align: right;\n",
       "    }\n",
       "</style>\n",
       "<table border=\"1\" class=\"dataframe\">\n",
       "  <thead>\n",
       "    <tr style=\"text-align: right;\">\n",
       "      <th></th>\n",
       "      <th>id</th>\n",
       "      <th>coupon_id</th>\n",
       "      <th>redemption_status</th>\n",
       "      <th>date</th>\n",
       "      <th>quantity</th>\n",
       "      <th>selling_price</th>\n",
       "      <th>other_discount</th>\n",
       "      <th>coupon_discount</th>\n",
       "      <th>age_range</th>\n",
       "      <th>marital_status</th>\n",
       "      <th>rented</th>\n",
       "      <th>family_size</th>\n",
       "      <th>no_of_children</th>\n",
       "      <th>income_bracket</th>\n",
       "      <th>campaign_type</th>\n",
       "      <th>start_date</th>\n",
       "      <th>end_date</th>\n",
       "    </tr>\n",
       "  </thead>\n",
       "  <tbody>\n",
       "    <tr>\n",
       "      <th>0</th>\n",
       "      <td>1</td>\n",
       "      <td>27</td>\n",
       "      <td>0</td>\n",
       "      <td>2012-01-10</td>\n",
       "      <td>1</td>\n",
       "      <td>320.22</td>\n",
       "      <td>0.00</td>\n",
       "      <td>0.0</td>\n",
       "      <td>46-55</td>\n",
       "      <td>NaN</td>\n",
       "      <td>0</td>\n",
       "      <td>1</td>\n",
       "      <td>NaN</td>\n",
       "      <td>5</td>\n",
       "      <td>X</td>\n",
       "      <td>2013-05-19</td>\n",
       "      <td>05/07/13</td>\n",
       "    </tr>\n",
       "    <tr>\n",
       "      <th>1</th>\n",
       "      <td>1</td>\n",
       "      <td>27</td>\n",
       "      <td>0</td>\n",
       "      <td>2012-01-10</td>\n",
       "      <td>1</td>\n",
       "      <td>89.05</td>\n",
       "      <td>-10.33</td>\n",
       "      <td>0.0</td>\n",
       "      <td>46-55</td>\n",
       "      <td>NaN</td>\n",
       "      <td>0</td>\n",
       "      <td>1</td>\n",
       "      <td>NaN</td>\n",
       "      <td>5</td>\n",
       "      <td>X</td>\n",
       "      <td>2013-05-19</td>\n",
       "      <td>05/07/13</td>\n",
       "    </tr>\n",
       "    <tr>\n",
       "      <th>2</th>\n",
       "      <td>1</td>\n",
       "      <td>27</td>\n",
       "      <td>0</td>\n",
       "      <td>2012-01-10</td>\n",
       "      <td>1</td>\n",
       "      <td>99.38</td>\n",
       "      <td>-42.74</td>\n",
       "      <td>0.0</td>\n",
       "      <td>46-55</td>\n",
       "      <td>NaN</td>\n",
       "      <td>0</td>\n",
       "      <td>1</td>\n",
       "      <td>NaN</td>\n",
       "      <td>5</td>\n",
       "      <td>X</td>\n",
       "      <td>2013-05-19</td>\n",
       "      <td>05/07/13</td>\n",
       "    </tr>\n",
       "    <tr>\n",
       "      <th>3</th>\n",
       "      <td>1</td>\n",
       "      <td>27</td>\n",
       "      <td>0</td>\n",
       "      <td>2012-01-10</td>\n",
       "      <td>2</td>\n",
       "      <td>99.02</td>\n",
       "      <td>0.00</td>\n",
       "      <td>0.0</td>\n",
       "      <td>46-55</td>\n",
       "      <td>NaN</td>\n",
       "      <td>0</td>\n",
       "      <td>1</td>\n",
       "      <td>NaN</td>\n",
       "      <td>5</td>\n",
       "      <td>X</td>\n",
       "      <td>2013-05-19</td>\n",
       "      <td>05/07/13</td>\n",
       "    </tr>\n",
       "    <tr>\n",
       "      <th>4</th>\n",
       "      <td>1</td>\n",
       "      <td>27</td>\n",
       "      <td>0</td>\n",
       "      <td>2012-02-04</td>\n",
       "      <td>2</td>\n",
       "      <td>99.02</td>\n",
       "      <td>0.00</td>\n",
       "      <td>0.0</td>\n",
       "      <td>46-55</td>\n",
       "      <td>NaN</td>\n",
       "      <td>0</td>\n",
       "      <td>1</td>\n",
       "      <td>NaN</td>\n",
       "      <td>5</td>\n",
       "      <td>X</td>\n",
       "      <td>2013-05-19</td>\n",
       "      <td>05/07/13</td>\n",
       "    </tr>\n",
       "  </tbody>\n",
       "</table>\n",
       "</div>"
      ],
      "text/plain": [
       "   id  coupon_id  redemption_status        date  quantity  selling_price  \\\n",
       "0   1         27                  0  2012-01-10         1         320.22   \n",
       "1   1         27                  0  2012-01-10         1          89.05   \n",
       "2   1         27                  0  2012-01-10         1          99.38   \n",
       "3   1         27                  0  2012-01-10         2          99.02   \n",
       "4   1         27                  0  2012-02-04         2          99.02   \n",
       "\n",
       "   other_discount  coupon_discount age_range marital_status  rented  \\\n",
       "0            0.00              0.0     46-55            NaN       0   \n",
       "1          -10.33              0.0     46-55            NaN       0   \n",
       "2          -42.74              0.0     46-55            NaN       0   \n",
       "3            0.00              0.0     46-55            NaN       0   \n",
       "4            0.00              0.0     46-55            NaN       0   \n",
       "\n",
       "  family_size no_of_children  income_bracket campaign_type start_date  \\\n",
       "0           1            NaN               5             X 2013-05-19   \n",
       "1           1            NaN               5             X 2013-05-19   \n",
       "2           1            NaN               5             X 2013-05-19   \n",
       "3           1            NaN               5             X 2013-05-19   \n",
       "4           1            NaN               5             X 2013-05-19   \n",
       "\n",
       "   end_date  \n",
       "0  05/07/13  \n",
       "1  05/07/13  \n",
       "2  05/07/13  \n",
       "3  05/07/13  \n",
       "4  05/07/13  "
      ]
     },
     "execution_count": 43,
     "metadata": {},
     "output_type": "execute_result"
    }
   ],
   "source": [
    "df.head()"
   ]
  },
  {
   "cell_type": "code",
   "execution_count": 44,
   "metadata": {},
   "outputs": [],
   "source": [
    "df['end_date'] = pd.to_datetime(df['end_date'],format='%d/%m/%y')\n",
    "df['date'] = pd.to_datetime(df['date'],format='%Y-%m-%d')"
   ]
  },
  {
   "cell_type": "code",
   "execution_count": 45,
   "metadata": {},
   "outputs": [
    {
     "data": {
      "text/html": [
       "<div>\n",
       "<style scoped>\n",
       "    .dataframe tbody tr th:only-of-type {\n",
       "        vertical-align: middle;\n",
       "    }\n",
       "\n",
       "    .dataframe tbody tr th {\n",
       "        vertical-align: top;\n",
       "    }\n",
       "\n",
       "    .dataframe thead th {\n",
       "        text-align: right;\n",
       "    }\n",
       "</style>\n",
       "<table border=\"1\" class=\"dataframe\">\n",
       "  <thead>\n",
       "    <tr style=\"text-align: right;\">\n",
       "      <th></th>\n",
       "      <th>id</th>\n",
       "      <th>coupon_id</th>\n",
       "      <th>redemption_status</th>\n",
       "      <th>date</th>\n",
       "      <th>quantity</th>\n",
       "      <th>selling_price</th>\n",
       "      <th>other_discount</th>\n",
       "      <th>coupon_discount</th>\n",
       "      <th>age_range</th>\n",
       "      <th>marital_status</th>\n",
       "      <th>rented</th>\n",
       "      <th>family_size</th>\n",
       "      <th>no_of_children</th>\n",
       "      <th>income_bracket</th>\n",
       "      <th>campaign_type</th>\n",
       "      <th>start_date</th>\n",
       "      <th>end_date</th>\n",
       "    </tr>\n",
       "  </thead>\n",
       "  <tbody>\n",
       "    <tr>\n",
       "      <th>0</th>\n",
       "      <td>1</td>\n",
       "      <td>27</td>\n",
       "      <td>0</td>\n",
       "      <td>2012-01-10</td>\n",
       "      <td>1</td>\n",
       "      <td>320.22</td>\n",
       "      <td>0.00</td>\n",
       "      <td>0.0</td>\n",
       "      <td>46-55</td>\n",
       "      <td>NaN</td>\n",
       "      <td>0</td>\n",
       "      <td>1</td>\n",
       "      <td>NaN</td>\n",
       "      <td>5</td>\n",
       "      <td>X</td>\n",
       "      <td>2013-05-19</td>\n",
       "      <td>2013-07-05</td>\n",
       "    </tr>\n",
       "    <tr>\n",
       "      <th>1</th>\n",
       "      <td>1</td>\n",
       "      <td>27</td>\n",
       "      <td>0</td>\n",
       "      <td>2012-01-10</td>\n",
       "      <td>1</td>\n",
       "      <td>89.05</td>\n",
       "      <td>-10.33</td>\n",
       "      <td>0.0</td>\n",
       "      <td>46-55</td>\n",
       "      <td>NaN</td>\n",
       "      <td>0</td>\n",
       "      <td>1</td>\n",
       "      <td>NaN</td>\n",
       "      <td>5</td>\n",
       "      <td>X</td>\n",
       "      <td>2013-05-19</td>\n",
       "      <td>2013-07-05</td>\n",
       "    </tr>\n",
       "    <tr>\n",
       "      <th>2</th>\n",
       "      <td>1</td>\n",
       "      <td>27</td>\n",
       "      <td>0</td>\n",
       "      <td>2012-01-10</td>\n",
       "      <td>1</td>\n",
       "      <td>99.38</td>\n",
       "      <td>-42.74</td>\n",
       "      <td>0.0</td>\n",
       "      <td>46-55</td>\n",
       "      <td>NaN</td>\n",
       "      <td>0</td>\n",
       "      <td>1</td>\n",
       "      <td>NaN</td>\n",
       "      <td>5</td>\n",
       "      <td>X</td>\n",
       "      <td>2013-05-19</td>\n",
       "      <td>2013-07-05</td>\n",
       "    </tr>\n",
       "    <tr>\n",
       "      <th>3</th>\n",
       "      <td>1</td>\n",
       "      <td>27</td>\n",
       "      <td>0</td>\n",
       "      <td>2012-01-10</td>\n",
       "      <td>2</td>\n",
       "      <td>99.02</td>\n",
       "      <td>0.00</td>\n",
       "      <td>0.0</td>\n",
       "      <td>46-55</td>\n",
       "      <td>NaN</td>\n",
       "      <td>0</td>\n",
       "      <td>1</td>\n",
       "      <td>NaN</td>\n",
       "      <td>5</td>\n",
       "      <td>X</td>\n",
       "      <td>2013-05-19</td>\n",
       "      <td>2013-07-05</td>\n",
       "    </tr>\n",
       "    <tr>\n",
       "      <th>4</th>\n",
       "      <td>1</td>\n",
       "      <td>27</td>\n",
       "      <td>0</td>\n",
       "      <td>2012-02-04</td>\n",
       "      <td>2</td>\n",
       "      <td>99.02</td>\n",
       "      <td>0.00</td>\n",
       "      <td>0.0</td>\n",
       "      <td>46-55</td>\n",
       "      <td>NaN</td>\n",
       "      <td>0</td>\n",
       "      <td>1</td>\n",
       "      <td>NaN</td>\n",
       "      <td>5</td>\n",
       "      <td>X</td>\n",
       "      <td>2013-05-19</td>\n",
       "      <td>2013-07-05</td>\n",
       "    </tr>\n",
       "  </tbody>\n",
       "</table>\n",
       "</div>"
      ],
      "text/plain": [
       "   id  coupon_id  redemption_status       date  quantity  selling_price  \\\n",
       "0   1         27                  0 2012-01-10         1         320.22   \n",
       "1   1         27                  0 2012-01-10         1          89.05   \n",
       "2   1         27                  0 2012-01-10         1          99.38   \n",
       "3   1         27                  0 2012-01-10         2          99.02   \n",
       "4   1         27                  0 2012-02-04         2          99.02   \n",
       "\n",
       "   other_discount  coupon_discount age_range marital_status  rented  \\\n",
       "0            0.00              0.0     46-55            NaN       0   \n",
       "1          -10.33              0.0     46-55            NaN       0   \n",
       "2          -42.74              0.0     46-55            NaN       0   \n",
       "3            0.00              0.0     46-55            NaN       0   \n",
       "4            0.00              0.0     46-55            NaN       0   \n",
       "\n",
       "  family_size no_of_children  income_bracket campaign_type start_date  \\\n",
       "0           1            NaN               5             X 2013-05-19   \n",
       "1           1            NaN               5             X 2013-05-19   \n",
       "2           1            NaN               5             X 2013-05-19   \n",
       "3           1            NaN               5             X 2013-05-19   \n",
       "4           1            NaN               5             X 2013-05-19   \n",
       "\n",
       "    end_date  \n",
       "0 2013-07-05  \n",
       "1 2013-07-05  \n",
       "2 2013-07-05  \n",
       "3 2013-07-05  \n",
       "4 2013-07-05  "
      ]
     },
     "execution_count": 45,
     "metadata": {},
     "output_type": "execute_result"
    }
   ],
   "source": [
    "df.head()"
   ]
  },
  {
   "cell_type": "code",
   "execution_count": 46,
   "metadata": {},
   "outputs": [
    {
     "data": {
      "text/plain": [
       "id                    0.00\n",
       "coupon_id             0.00\n",
       "redemption_status     0.00\n",
       "date                  0.00\n",
       "quantity              0.00\n",
       "selling_price         0.00\n",
       "other_discount        0.00\n",
       "coupon_discount       0.00\n",
       "age_range             0.00\n",
       "marital_status       41.60\n",
       "rented                0.00\n",
       "family_size           0.00\n",
       "no_of_children       63.56\n",
       "income_bracket        0.00\n",
       "campaign_type         0.00\n",
       "start_date            0.00\n",
       "end_date              0.00\n",
       "dtype: float64"
      ]
     },
     "execution_count": 46,
     "metadata": {},
     "output_type": "execute_result"
    }
   ],
   "source": [
    "round((df.isna().sum()/len(df))*100,2)"
   ]
  },
  {
   "cell_type": "code",
   "execution_count": 47,
   "metadata": {},
   "outputs": [
    {
     "name": "stdout",
     "output_type": "stream",
     "text": [
      "<class 'pandas.core.frame.DataFrame'>\n",
      "Int64Index: 18444701 entries, 0 to 18471243\n",
      "Data columns (total 17 columns):\n",
      "id                   int64\n",
      "coupon_id            int64\n",
      "redemption_status    int64\n",
      "date                 datetime64[ns]\n",
      "quantity             int64\n",
      "selling_price        float64\n",
      "other_discount       float64\n",
      "coupon_discount      float64\n",
      "age_range            object\n",
      "marital_status       object\n",
      "rented               int64\n",
      "family_size          object\n",
      "no_of_children       object\n",
      "income_bracket       int64\n",
      "campaign_type        object\n",
      "start_date           datetime64[ns]\n",
      "end_date             datetime64[ns]\n",
      "dtypes: datetime64[ns](3), float64(3), int64(6), object(5)\n",
      "memory usage: 2.5+ GB\n"
     ]
    }
   ],
   "source": [
    "df.info()"
   ]
  },
  {
   "cell_type": "code",
   "execution_count": 48,
   "metadata": {},
   "outputs": [],
   "source": [
    "df['campaign_type'].unique()\n",
    "\n",
    "df['campaign_type'] = df['campaign_type'].map({'X':1,'Y':0})"
   ]
  },
  {
   "cell_type": "code",
   "execution_count": 49,
   "metadata": {},
   "outputs": [
    {
     "data": {
      "text/plain": [
       "array(['1', '2', '3', '4', '5+'], dtype=object)"
      ]
     },
     "execution_count": 49,
     "metadata": {},
     "output_type": "execute_result"
    }
   ],
   "source": [
    "#xcccc\n",
    "df['family_size'].unique()"
   ]
  },
  {
   "cell_type": "code",
   "execution_count": 50,
   "metadata": {},
   "outputs": [
    {
     "data": {
      "text/plain": [
       "array(['46-55', '36-45', '18-25', '26-35', '56-70', '70+'], dtype=object)"
      ]
     },
     "execution_count": 50,
     "metadata": {},
     "output_type": "execute_result"
    }
   ],
   "source": [
    "df['age_range'].unique()"
   ]
  },
  {
   "cell_type": "code",
   "execution_count": 51,
   "metadata": {},
   "outputs": [],
   "source": [
    "df_dummies = pd.get_dummies(df['age_range'],prefix='age_range',drop_first=True)"
   ]
  },
  {
   "cell_type": "code",
   "execution_count": 52,
   "metadata": {},
   "outputs": [],
   "source": [
    "df.drop_duplicates(inplace=True)"
   ]
  },
  {
   "cell_type": "code",
   "execution_count": 53,
   "metadata": {
    "scrolled": true
   },
   "outputs": [
    {
     "data": {
      "text/plain": [
       "age_range_26-35    0\n",
       "age_range_36-45    0\n",
       "age_range_46-55    0\n",
       "age_range_56-70    0\n",
       "age_range_70+      0\n",
       "dtype: int64"
      ]
     },
     "execution_count": 53,
     "metadata": {},
     "output_type": "execute_result"
    }
   ],
   "source": [
    "df_dummies.isna().sum()"
   ]
  },
  {
   "cell_type": "code",
   "execution_count": 54,
   "metadata": {},
   "outputs": [
    {
     "data": {
      "text/plain": [
       "age_range_26-35    0.0\n",
       "age_range_36-45    0.0\n",
       "age_range_46-55    0.0\n",
       "age_range_56-70    0.0\n",
       "age_range_70+      0.0\n",
       "dtype: float64"
      ]
     },
     "execution_count": 54,
     "metadata": {},
     "output_type": "execute_result"
    }
   ],
   "source": [
    "round((df_dummies.isna().sum()/len(df_dummies))*100,2)"
   ]
  },
  {
   "cell_type": "code",
   "execution_count": 55,
   "metadata": {},
   "outputs": [
    {
     "data": {
      "text/plain": [
       "id                    0.00\n",
       "coupon_id             0.00\n",
       "redemption_status     0.00\n",
       "date                  0.00\n",
       "quantity              0.00\n",
       "selling_price         0.00\n",
       "other_discount        0.00\n",
       "coupon_discount       0.00\n",
       "age_range             0.00\n",
       "marital_status       41.38\n",
       "rented                0.00\n",
       "family_size           0.00\n",
       "no_of_children       63.98\n",
       "income_bracket        0.00\n",
       "campaign_type         0.00\n",
       "start_date            0.00\n",
       "end_date              0.00\n",
       "dtype: float64"
      ]
     },
     "execution_count": 55,
     "metadata": {},
     "output_type": "execute_result"
    }
   ],
   "source": [
    "round((df.isna().sum()/len(df))*100,2)"
   ]
  },
  {
   "cell_type": "code",
   "execution_count": 56,
   "metadata": {},
   "outputs": [],
   "source": [
    "df = pd.concat([df_dummies,df],axis=1)\n"
   ]
  },
  {
   "cell_type": "code",
   "execution_count": 57,
   "metadata": {},
   "outputs": [
    {
     "data": {
      "text/plain": [
       "age_range_26-35       0.00\n",
       "age_range_36-45       0.00\n",
       "age_range_46-55       0.00\n",
       "age_range_56-70       0.00\n",
       "age_range_70+         0.00\n",
       "id                   13.90\n",
       "coupon_id            13.90\n",
       "redemption_status    13.90\n",
       "date                 13.90\n",
       "quantity             13.90\n",
       "selling_price        13.90\n",
       "other_discount       13.90\n",
       "coupon_discount      13.90\n",
       "age_range            13.90\n",
       "marital_status       49.53\n",
       "rented               13.90\n",
       "family_size          13.90\n",
       "no_of_children       68.99\n",
       "income_bracket       13.90\n",
       "campaign_type        13.90\n",
       "start_date           13.90\n",
       "end_date             13.90\n",
       "dtype: float64"
      ]
     },
     "execution_count": 57,
     "metadata": {},
     "output_type": "execute_result"
    }
   ],
   "source": [
    "round((df.isna().sum()/len(df))*100,2)"
   ]
  },
  {
   "cell_type": "code",
   "execution_count": 58,
   "metadata": {},
   "outputs": [],
   "source": [
    "df.drop(['age_range'],axis=1,inplace=True)"
   ]
  },
  {
   "cell_type": "code",
   "execution_count": 59,
   "metadata": {},
   "outputs": [
    {
     "name": "stdout",
     "output_type": "stream",
     "text": [
      "<class 'pandas.core.frame.DataFrame'>\n",
      "Int64Index: 18444701 entries, 0 to 18471243\n",
      "Data columns (total 21 columns):\n",
      "age_range_26-35      uint8\n",
      "age_range_36-45      uint8\n",
      "age_range_46-55      uint8\n",
      "age_range_56-70      uint8\n",
      "age_range_70+        uint8\n",
      "id                   float64\n",
      "coupon_id            float64\n",
      "redemption_status    float64\n",
      "date                 datetime64[ns]\n",
      "quantity             float64\n",
      "selling_price        float64\n",
      "other_discount       float64\n",
      "coupon_discount      float64\n",
      "marital_status       object\n",
      "rented               float64\n",
      "family_size          object\n",
      "no_of_children       object\n",
      "income_bracket       float64\n",
      "campaign_type        float64\n",
      "start_date           datetime64[ns]\n",
      "end_date             datetime64[ns]\n",
      "dtypes: datetime64[ns](3), float64(10), object(3), uint8(5)\n",
      "memory usage: 2.4+ GB\n"
     ]
    }
   ],
   "source": [
    "df.info()"
   ]
  },
  {
   "cell_type": "code",
   "execution_count": 60,
   "metadata": {},
   "outputs": [],
   "source": [
    "df_dummies = pd.get_dummies(df['family_size'],prefix='family_size',drop_first=True)"
   ]
  },
  {
   "cell_type": "code",
   "execution_count": 61,
   "metadata": {},
   "outputs": [
    {
     "data": {
      "text/plain": [
       "family_size_2     0.0\n",
       "family_size_3     0.0\n",
       "family_size_4     0.0\n",
       "family_size_5+    0.0\n",
       "dtype: float64"
      ]
     },
     "execution_count": 61,
     "metadata": {},
     "output_type": "execute_result"
    }
   ],
   "source": [
    "round((df_dummies.isna().sum()/len(df_dummies))*100,2)"
   ]
  },
  {
   "cell_type": "code",
   "execution_count": 62,
   "metadata": {},
   "outputs": [],
   "source": [
    "df = pd.concat([df_dummies,df],axis=1)\n"
   ]
  },
  {
   "cell_type": "code",
   "execution_count": 63,
   "metadata": {},
   "outputs": [],
   "source": [
    "df.drop(['family_size'],axis=1,inplace=True)"
   ]
  },
  {
   "cell_type": "code",
   "execution_count": 64,
   "metadata": {},
   "outputs": [
    {
     "data": {
      "text/plain": [
       "family_size_2         0.00\n",
       "family_size_3         0.00\n",
       "family_size_4         0.00\n",
       "family_size_5+        0.00\n",
       "age_range_26-35       0.00\n",
       "age_range_36-45       0.00\n",
       "age_range_46-55       0.00\n",
       "age_range_56-70       0.00\n",
       "age_range_70+         0.00\n",
       "id                   13.90\n",
       "coupon_id            13.90\n",
       "redemption_status    13.90\n",
       "date                 13.90\n",
       "quantity             13.90\n",
       "selling_price        13.90\n",
       "other_discount       13.90\n",
       "coupon_discount      13.90\n",
       "marital_status       49.53\n",
       "rented               13.90\n",
       "no_of_children       68.99\n",
       "income_bracket       13.90\n",
       "campaign_type        13.90\n",
       "start_date           13.90\n",
       "end_date             13.90\n",
       "dtype: float64"
      ]
     },
     "execution_count": 64,
     "metadata": {},
     "output_type": "execute_result"
    }
   ],
   "source": [
    "df['campaign_type'].unique()\n",
    "round((df.isna().sum()/len(df))*100,2)"
   ]
  },
  {
   "cell_type": "code",
   "execution_count": 65,
   "metadata": {},
   "outputs": [],
   "source": [
    "#X___00000\n"
   ]
  },
  {
   "cell_type": "code",
   "execution_count": 66,
   "metadata": {},
   "outputs": [
    {
     "name": "stdout",
     "output_type": "stream",
     "text": [
      "<class 'pandas.core.frame.DataFrame'>\n",
      "Int64Index: 18444701 entries, 0 to 18471243\n",
      "Data columns (total 24 columns):\n",
      "family_size_2        uint8\n",
      "family_size_3        uint8\n",
      "family_size_4        uint8\n",
      "family_size_5+       uint8\n",
      "age_range_26-35      uint8\n",
      "age_range_36-45      uint8\n",
      "age_range_46-55      uint8\n",
      "age_range_56-70      uint8\n",
      "age_range_70+        uint8\n",
      "id                   float64\n",
      "coupon_id            float64\n",
      "redemption_status    float64\n",
      "date                 datetime64[ns]\n",
      "quantity             float64\n",
      "selling_price        float64\n",
      "other_discount       float64\n",
      "coupon_discount      float64\n",
      "marital_status       object\n",
      "rented               float64\n",
      "no_of_children       object\n",
      "income_bracket       float64\n",
      "campaign_type        float64\n",
      "start_date           datetime64[ns]\n",
      "end_date             datetime64[ns]\n",
      "dtypes: datetime64[ns](3), float64(10), object(2), uint8(9)\n",
      "memory usage: 2.4+ GB\n"
     ]
    }
   ],
   "source": [
    "df.info()"
   ]
  },
  {
   "cell_type": "code",
   "execution_count": 67,
   "metadata": {
    "scrolled": true
   },
   "outputs": [
    {
     "data": {
      "text/plain": [
       "array([nan, '1', '2', '3+'], dtype=object)"
      ]
     },
     "execution_count": 67,
     "metadata": {},
     "output_type": "execute_result"
    }
   ],
   "source": [
    "df['no_of_children'].unique()"
   ]
  },
  {
   "cell_type": "code",
   "execution_count": 68,
   "metadata": {},
   "outputs": [],
   "source": [
    "df['no_of_children'].fillna(999,inplace=True)"
   ]
  },
  {
   "cell_type": "code",
   "execution_count": 69,
   "metadata": {},
   "outputs": [
    {
     "data": {
      "text/plain": [
       "array([nan, 'Married', 'Single'], dtype=object)"
      ]
     },
     "execution_count": 69,
     "metadata": {},
     "output_type": "execute_result"
    }
   ],
   "source": [
    "df['marital_status'].unique()"
   ]
  },
  {
   "cell_type": "code",
   "execution_count": 70,
   "metadata": {},
   "outputs": [],
   "source": [
    "df['marital_status'].fillna('unknown',inplace=True)"
   ]
  },
  {
   "cell_type": "code",
   "execution_count": 71,
   "metadata": {},
   "outputs": [],
   "source": [
    "df_dummies = pd.get_dummies(df['no_of_children'],prefix='no_of_children',drop_first=True)\n",
    "df = pd.concat([df_dummies,df],axis=1)\n",
    "df.drop(['no_of_children'],axis=1,inplace=True)"
   ]
  },
  {
   "cell_type": "code",
   "execution_count": 72,
   "metadata": {},
   "outputs": [],
   "source": [
    "df_dummies = pd.get_dummies(df['marital_status'],prefix='marital_status')\n",
    "df = pd.concat([df_dummies,df],axis=1)\n",
    "df.drop(['marital_status'],axis=1,inplace=True)"
   ]
  },
  {
   "cell_type": "code",
   "execution_count": 73,
   "metadata": {},
   "outputs": [
    {
     "data": {
      "text/html": [
       "<div>\n",
       "<style scoped>\n",
       "    .dataframe tbody tr th:only-of-type {\n",
       "        vertical-align: middle;\n",
       "    }\n",
       "\n",
       "    .dataframe tbody tr th {\n",
       "        vertical-align: top;\n",
       "    }\n",
       "\n",
       "    .dataframe thead th {\n",
       "        text-align: right;\n",
       "    }\n",
       "</style>\n",
       "<table border=\"1\" class=\"dataframe\">\n",
       "  <thead>\n",
       "    <tr style=\"text-align: right;\">\n",
       "      <th></th>\n",
       "      <th>marital_status_Married</th>\n",
       "      <th>marital_status_Single</th>\n",
       "      <th>marital_status_unknown</th>\n",
       "      <th>no_of_children_1</th>\n",
       "      <th>no_of_children_2</th>\n",
       "      <th>no_of_children_3+</th>\n",
       "      <th>family_size_2</th>\n",
       "      <th>family_size_3</th>\n",
       "      <th>family_size_4</th>\n",
       "      <th>family_size_5+</th>\n",
       "      <th>...</th>\n",
       "      <th>date</th>\n",
       "      <th>quantity</th>\n",
       "      <th>selling_price</th>\n",
       "      <th>other_discount</th>\n",
       "      <th>coupon_discount</th>\n",
       "      <th>rented</th>\n",
       "      <th>income_bracket</th>\n",
       "      <th>campaign_type</th>\n",
       "      <th>start_date</th>\n",
       "      <th>end_date</th>\n",
       "    </tr>\n",
       "  </thead>\n",
       "  <tbody>\n",
       "    <tr>\n",
       "      <th>0</th>\n",
       "      <td>0</td>\n",
       "      <td>0</td>\n",
       "      <td>1</td>\n",
       "      <td>0</td>\n",
       "      <td>0</td>\n",
       "      <td>0</td>\n",
       "      <td>0</td>\n",
       "      <td>0</td>\n",
       "      <td>0</td>\n",
       "      <td>0</td>\n",
       "      <td>...</td>\n",
       "      <td>2012-01-10</td>\n",
       "      <td>1.0</td>\n",
       "      <td>320.22</td>\n",
       "      <td>0.00</td>\n",
       "      <td>0.0</td>\n",
       "      <td>0.0</td>\n",
       "      <td>5.0</td>\n",
       "      <td>1.0</td>\n",
       "      <td>2013-05-19</td>\n",
       "      <td>2013-07-05</td>\n",
       "    </tr>\n",
       "    <tr>\n",
       "      <th>1</th>\n",
       "      <td>0</td>\n",
       "      <td>0</td>\n",
       "      <td>1</td>\n",
       "      <td>0</td>\n",
       "      <td>0</td>\n",
       "      <td>0</td>\n",
       "      <td>0</td>\n",
       "      <td>0</td>\n",
       "      <td>0</td>\n",
       "      <td>0</td>\n",
       "      <td>...</td>\n",
       "      <td>2012-01-10</td>\n",
       "      <td>1.0</td>\n",
       "      <td>89.05</td>\n",
       "      <td>-10.33</td>\n",
       "      <td>0.0</td>\n",
       "      <td>0.0</td>\n",
       "      <td>5.0</td>\n",
       "      <td>1.0</td>\n",
       "      <td>2013-05-19</td>\n",
       "      <td>2013-07-05</td>\n",
       "    </tr>\n",
       "    <tr>\n",
       "      <th>2</th>\n",
       "      <td>0</td>\n",
       "      <td>0</td>\n",
       "      <td>1</td>\n",
       "      <td>0</td>\n",
       "      <td>0</td>\n",
       "      <td>0</td>\n",
       "      <td>0</td>\n",
       "      <td>0</td>\n",
       "      <td>0</td>\n",
       "      <td>0</td>\n",
       "      <td>...</td>\n",
       "      <td>2012-01-10</td>\n",
       "      <td>1.0</td>\n",
       "      <td>99.38</td>\n",
       "      <td>-42.74</td>\n",
       "      <td>0.0</td>\n",
       "      <td>0.0</td>\n",
       "      <td>5.0</td>\n",
       "      <td>1.0</td>\n",
       "      <td>2013-05-19</td>\n",
       "      <td>2013-07-05</td>\n",
       "    </tr>\n",
       "    <tr>\n",
       "      <th>3</th>\n",
       "      <td>0</td>\n",
       "      <td>0</td>\n",
       "      <td>1</td>\n",
       "      <td>0</td>\n",
       "      <td>0</td>\n",
       "      <td>0</td>\n",
       "      <td>0</td>\n",
       "      <td>0</td>\n",
       "      <td>0</td>\n",
       "      <td>0</td>\n",
       "      <td>...</td>\n",
       "      <td>2012-01-10</td>\n",
       "      <td>2.0</td>\n",
       "      <td>99.02</td>\n",
       "      <td>0.00</td>\n",
       "      <td>0.0</td>\n",
       "      <td>0.0</td>\n",
       "      <td>5.0</td>\n",
       "      <td>1.0</td>\n",
       "      <td>2013-05-19</td>\n",
       "      <td>2013-07-05</td>\n",
       "    </tr>\n",
       "    <tr>\n",
       "      <th>4</th>\n",
       "      <td>0</td>\n",
       "      <td>0</td>\n",
       "      <td>1</td>\n",
       "      <td>0</td>\n",
       "      <td>0</td>\n",
       "      <td>0</td>\n",
       "      <td>0</td>\n",
       "      <td>0</td>\n",
       "      <td>0</td>\n",
       "      <td>0</td>\n",
       "      <td>...</td>\n",
       "      <td>2012-02-04</td>\n",
       "      <td>2.0</td>\n",
       "      <td>99.02</td>\n",
       "      <td>0.00</td>\n",
       "      <td>0.0</td>\n",
       "      <td>0.0</td>\n",
       "      <td>5.0</td>\n",
       "      <td>1.0</td>\n",
       "      <td>2013-05-19</td>\n",
       "      <td>2013-07-05</td>\n",
       "    </tr>\n",
       "  </tbody>\n",
       "</table>\n",
       "<p>5 rows × 28 columns</p>\n",
       "</div>"
      ],
      "text/plain": [
       "   marital_status_Married  marital_status_Single  marital_status_unknown  \\\n",
       "0                       0                      0                       1   \n",
       "1                       0                      0                       1   \n",
       "2                       0                      0                       1   \n",
       "3                       0                      0                       1   \n",
       "4                       0                      0                       1   \n",
       "\n",
       "   no_of_children_1  no_of_children_2  no_of_children_3+  family_size_2  \\\n",
       "0                 0                 0                  0              0   \n",
       "1                 0                 0                  0              0   \n",
       "2                 0                 0                  0              0   \n",
       "3                 0                 0                  0              0   \n",
       "4                 0                 0                  0              0   \n",
       "\n",
       "   family_size_3  family_size_4  family_size_5+    ...           date  \\\n",
       "0              0              0               0    ...     2012-01-10   \n",
       "1              0              0               0    ...     2012-01-10   \n",
       "2              0              0               0    ...     2012-01-10   \n",
       "3              0              0               0    ...     2012-01-10   \n",
       "4              0              0               0    ...     2012-02-04   \n",
       "\n",
       "   quantity  selling_price  other_discount  coupon_discount  rented  \\\n",
       "0       1.0         320.22            0.00              0.0     0.0   \n",
       "1       1.0          89.05          -10.33              0.0     0.0   \n",
       "2       1.0          99.38          -42.74              0.0     0.0   \n",
       "3       2.0          99.02            0.00              0.0     0.0   \n",
       "4       2.0          99.02            0.00              0.0     0.0   \n",
       "\n",
       "   income_bracket  campaign_type start_date   end_date  \n",
       "0             5.0            1.0 2013-05-19 2013-07-05  \n",
       "1             5.0            1.0 2013-05-19 2013-07-05  \n",
       "2             5.0            1.0 2013-05-19 2013-07-05  \n",
       "3             5.0            1.0 2013-05-19 2013-07-05  \n",
       "4             5.0            1.0 2013-05-19 2013-07-05  \n",
       "\n",
       "[5 rows x 28 columns]"
      ]
     },
     "execution_count": 73,
     "metadata": {},
     "output_type": "execute_result"
    }
   ],
   "source": [
    "df.head()"
   ]
  },
  {
   "cell_type": "code",
   "execution_count": 74,
   "metadata": {},
   "outputs": [
    {
     "data": {
      "text/plain": [
       "Index(['marital_status_Married', 'marital_status_Single',\n",
       "       'marital_status_unknown', 'no_of_children_1', 'no_of_children_2',\n",
       "       'no_of_children_3+', 'family_size_2', 'family_size_3', 'family_size_4',\n",
       "       'family_size_5+', 'age_range_26-35', 'age_range_36-45',\n",
       "       'age_range_46-55', 'age_range_56-70', 'age_range_70+', 'id',\n",
       "       'coupon_id', 'redemption_status', 'date', 'quantity', 'selling_price',\n",
       "       'other_discount', 'coupon_discount', 'rented', 'income_bracket',\n",
       "       'campaign_type', 'start_date', 'end_date'],\n",
       "      dtype='object')"
      ]
     },
     "execution_count": 74,
     "metadata": {},
     "output_type": "execute_result"
    }
   ],
   "source": [
    "df.columns"
   ]
  },
  {
   "cell_type": "code",
   "execution_count": 75,
   "metadata": {},
   "outputs": [
    {
     "name": "stdout",
     "output_type": "stream",
     "text": [
      "<class 'pandas.core.frame.DataFrame'>\n",
      "Int64Index: 18444701 entries, 0 to 18471243\n",
      "Data columns (total 28 columns):\n",
      "marital_status_Married    uint8\n",
      "marital_status_Single     uint8\n",
      "marital_status_unknown    uint8\n",
      "no_of_children_1          uint8\n",
      "no_of_children_2          uint8\n",
      "no_of_children_3+         uint8\n",
      "family_size_2             uint8\n",
      "family_size_3             uint8\n",
      "family_size_4             uint8\n",
      "family_size_5+            uint8\n",
      "age_range_26-35           uint8\n",
      "age_range_36-45           uint8\n",
      "age_range_46-55           uint8\n",
      "age_range_56-70           uint8\n",
      "age_range_70+             uint8\n",
      "id                        float64\n",
      "coupon_id                 float64\n",
      "redemption_status         float64\n",
      "date                      datetime64[ns]\n",
      "quantity                  float64\n",
      "selling_price             float64\n",
      "other_discount            float64\n",
      "coupon_discount           float64\n",
      "rented                    float64\n",
      "income_bracket            float64\n",
      "campaign_type             float64\n",
      "start_date                datetime64[ns]\n",
      "end_date                  datetime64[ns]\n",
      "dtypes: datetime64[ns](3), float64(10), uint8(15)\n",
      "memory usage: 2.2 GB\n"
     ]
    }
   ],
   "source": [
    "df.info()"
   ]
  },
  {
   "cell_type": "code",
   "execution_count": 76,
   "metadata": {},
   "outputs": [
    {
     "data": {
      "text/plain": [
       "18444701"
      ]
     },
     "execution_count": 76,
     "metadata": {},
     "output_type": "execute_result"
    }
   ],
   "source": [
    "len(df)"
   ]
  },
  {
   "cell_type": "code",
   "execution_count": null,
   "metadata": {},
   "outputs": [],
   "source": [
    "#df.merge(df_item,on='coupon_id',how='inner')"
   ]
  },
  {
   "cell_type": "code",
   "execution_count": 77,
   "metadata": {},
   "outputs": [
    {
     "data": {
      "text/plain": [
       "marital_status_Married     0.0\n",
       "marital_status_Single      0.0\n",
       "marital_status_unknown     0.0\n",
       "no_of_children_1           0.0\n",
       "no_of_children_2           0.0\n",
       "no_of_children_3+          0.0\n",
       "family_size_2              0.0\n",
       "family_size_3              0.0\n",
       "family_size_4              0.0\n",
       "family_size_5+             0.0\n",
       "age_range_26-35            0.0\n",
       "age_range_36-45            0.0\n",
       "age_range_46-55            0.0\n",
       "age_range_56-70            0.0\n",
       "age_range_70+              0.0\n",
       "id                        13.9\n",
       "coupon_id                 13.9\n",
       "redemption_status         13.9\n",
       "date                      13.9\n",
       "quantity                  13.9\n",
       "selling_price             13.9\n",
       "other_discount            13.9\n",
       "coupon_discount           13.9\n",
       "rented                    13.9\n",
       "income_bracket            13.9\n",
       "campaign_type             13.9\n",
       "start_date                13.9\n",
       "end_date                  13.9\n",
       "dtype: float64"
      ]
     },
     "execution_count": 77,
     "metadata": {},
     "output_type": "execute_result"
    }
   ],
   "source": [
    "round((df.isna().sum()/len(df))*100,2)"
   ]
  },
  {
   "cell_type": "code",
   "execution_count": 78,
   "metadata": {},
   "outputs": [],
   "source": [
    "df.dropna(inplace=True)"
   ]
  },
  {
   "cell_type": "code",
   "execution_count": 79,
   "metadata": {},
   "outputs": [
    {
     "data": {
      "text/plain": [
       "marital_status_Married    0.0\n",
       "marital_status_Single     0.0\n",
       "marital_status_unknown    0.0\n",
       "no_of_children_1          0.0\n",
       "no_of_children_2          0.0\n",
       "no_of_children_3+         0.0\n",
       "family_size_2             0.0\n",
       "family_size_3             0.0\n",
       "family_size_4             0.0\n",
       "family_size_5+            0.0\n",
       "age_range_26-35           0.0\n",
       "age_range_36-45           0.0\n",
       "age_range_46-55           0.0\n",
       "age_range_56-70           0.0\n",
       "age_range_70+             0.0\n",
       "id                        0.0\n",
       "coupon_id                 0.0\n",
       "redemption_status         0.0\n",
       "date                      0.0\n",
       "quantity                  0.0\n",
       "selling_price             0.0\n",
       "other_discount            0.0\n",
       "coupon_discount           0.0\n",
       "rented                    0.0\n",
       "income_bracket            0.0\n",
       "campaign_type             0.0\n",
       "start_date                0.0\n",
       "end_date                  0.0\n",
       "dtype: float64"
      ]
     },
     "execution_count": 79,
     "metadata": {},
     "output_type": "execute_result"
    }
   ],
   "source": [
    "round((df.isna().sum()/len(df))*100,2)"
   ]
  },
  {
   "cell_type": "code",
   "execution_count": 80,
   "metadata": {},
   "outputs": [
    {
     "name": "stdout",
     "output_type": "stream",
     "text": [
      "<class 'pandas.core.frame.DataFrame'>\n",
      "Int64Index: 15880445 entries, 0 to 18471243\n",
      "Data columns (total 28 columns):\n",
      "marital_status_Married    uint8\n",
      "marital_status_Single     uint8\n",
      "marital_status_unknown    uint8\n",
      "no_of_children_1          uint8\n",
      "no_of_children_2          uint8\n",
      "no_of_children_3+         uint8\n",
      "family_size_2             uint8\n",
      "family_size_3             uint8\n",
      "family_size_4             uint8\n",
      "family_size_5+            uint8\n",
      "age_range_26-35           uint8\n",
      "age_range_36-45           uint8\n",
      "age_range_46-55           uint8\n",
      "age_range_56-70           uint8\n",
      "age_range_70+             uint8\n",
      "id                        float64\n",
      "coupon_id                 float64\n",
      "redemption_status         float64\n",
      "date                      datetime64[ns]\n",
      "quantity                  float64\n",
      "selling_price             float64\n",
      "other_discount            float64\n",
      "coupon_discount           float64\n",
      "rented                    float64\n",
      "income_bracket            float64\n",
      "campaign_type             float64\n",
      "start_date                datetime64[ns]\n",
      "end_date                  datetime64[ns]\n",
      "dtypes: datetime64[ns](3), float64(10), uint8(15)\n",
      "memory usage: 1.9 GB\n"
     ]
    }
   ],
   "source": [
    "df.info()"
   ]
  },
  {
   "cell_type": "code",
   "execution_count": 81,
   "metadata": {},
   "outputs": [
    {
     "data": {
      "text/plain": [
       "marital_status_Married    0.0\n",
       "marital_status_Single     0.0\n",
       "marital_status_unknown    0.0\n",
       "no_of_children_1          0.0\n",
       "no_of_children_2          0.0\n",
       "no_of_children_3+         0.0\n",
       "family_size_2             0.0\n",
       "family_size_3             0.0\n",
       "family_size_4             0.0\n",
       "family_size_5+            0.0\n",
       "age_range_26-35           0.0\n",
       "age_range_36-45           0.0\n",
       "age_range_46-55           0.0\n",
       "age_range_56-70           0.0\n",
       "age_range_70+             0.0\n",
       "id                        0.0\n",
       "coupon_id                 0.0\n",
       "redemption_status         0.0\n",
       "date                      0.0\n",
       "quantity                  0.0\n",
       "selling_price             0.0\n",
       "other_discount            0.0\n",
       "coupon_discount           0.0\n",
       "rented                    0.0\n",
       "income_bracket            0.0\n",
       "campaign_type             0.0\n",
       "start_date                0.0\n",
       "end_date                  0.0\n",
       "dtype: float64"
      ]
     },
     "execution_count": 81,
     "metadata": {},
     "output_type": "execute_result"
    }
   ],
   "source": [
    "round((df.isna().sum()/len(df))*100,2)"
   ]
  },
  {
   "cell_type": "code",
   "execution_count": 82,
   "metadata": {},
   "outputs": [],
   "source": [
    "df.to_csv('all.csv',index_label=False)"
   ]
  },
  {
   "cell_type": "code",
   "execution_count": 83,
   "metadata": {},
   "outputs": [
    {
     "data": {
      "text/plain": [
       "15880445"
      ]
     },
     "execution_count": 83,
     "metadata": {},
     "output_type": "execute_result"
    }
   ],
   "source": [
    "len(df)"
   ]
  },
  {
   "cell_type": "code",
   "execution_count": 84,
   "metadata": {},
   "outputs": [
    {
     "name": "stdout",
     "output_type": "stream",
     "text": [
      "<class 'pandas.core.frame.DataFrame'>\n",
      "Int64Index: 15880445 entries, 0 to 18471243\n",
      "Data columns (total 28 columns):\n",
      "marital_status_Married    uint8\n",
      "marital_status_Single     uint8\n",
      "marital_status_unknown    uint8\n",
      "no_of_children_1          uint8\n",
      "no_of_children_2          uint8\n",
      "no_of_children_3+         uint8\n",
      "family_size_2             uint8\n",
      "family_size_3             uint8\n",
      "family_size_4             uint8\n",
      "family_size_5+            uint8\n",
      "age_range_26-35           uint8\n",
      "age_range_36-45           uint8\n",
      "age_range_46-55           uint8\n",
      "age_range_56-70           uint8\n",
      "age_range_70+             uint8\n",
      "id                        float64\n",
      "coupon_id                 float64\n",
      "redemption_status         float64\n",
      "date                      datetime64[ns]\n",
      "quantity                  float64\n",
      "selling_price             float64\n",
      "other_discount            float64\n",
      "coupon_discount           float64\n",
      "rented                    float64\n",
      "income_bracket            float64\n",
      "campaign_type             float64\n",
      "start_date                datetime64[ns]\n",
      "end_date                  datetime64[ns]\n",
      "dtypes: datetime64[ns](3), float64(10), uint8(15)\n",
      "memory usage: 1.9 GB\n"
     ]
    }
   ],
   "source": [
    "df.info()"
   ]
  },
  {
   "cell_type": "code",
   "execution_count": 86,
   "metadata": {},
   "outputs": [
    {
     "data": {
      "text/plain": [
       "count    1.588044e+07\n",
       "mean     1.543452e-02\n",
       "std      1.232732e-01\n",
       "min      0.000000e+00\n",
       "25%      0.000000e+00\n",
       "50%      0.000000e+00\n",
       "75%      0.000000e+00\n",
       "max      1.000000e+00\n",
       "Name: redemption_status, dtype: float64"
      ]
     },
     "execution_count": 86,
     "metadata": {},
     "output_type": "execute_result"
    }
   ],
   "source": [
    "df['redemption_status'].describe()"
   ]
  },
  {
   "cell_type": "code",
   "execution_count": 87,
   "metadata": {},
   "outputs": [
    {
     "data": {
      "text/plain": [
       "1.5434517105786394"
      ]
     },
     "execution_count": 87,
     "metadata": {},
     "output_type": "execute_result"
    }
   ],
   "source": [
    "redemption_status = (sum(df['redemption_status'])/len(df['redemption_status'].index))*100\n",
    "redemption_status"
   ]
  },
  {
   "cell_type": "code",
   "execution_count": 88,
   "metadata": {},
   "outputs": [
    {
     "data": {
      "text/plain": [
       "0.015434517105786394"
      ]
     },
     "execution_count": 88,
     "metadata": {},
     "output_type": "execute_result"
    }
   ],
   "source": [
    "sum(df['redemption_status'])/len(df['redemption_status'].index)"
   ]
  },
  {
   "cell_type": "markdown",
   "metadata": {},
   "source": [
    "# we only have 1.54% of redemption status as true"
   ]
  },
  {
   "cell_type": "code",
   "execution_count": 89,
   "metadata": {},
   "outputs": [],
   "source": [
    "pd.set_option('display.max_columns', 500)\n",
    "pd.set_option('display.width', 1000)"
   ]
  },
  {
   "cell_type": "code",
   "execution_count": 91,
   "metadata": {},
   "outputs": [
    {
     "ename": "TypeError",
     "evalue": "unsupported operand type(s) for +: 'Timestamp' and 'Timestamp'",
     "output_type": "error",
     "traceback": [
      "\u001b[1;31m---------------------------------------------------------------------------\u001b[0m",
      "\u001b[1;31mTypeError\u001b[0m                                 Traceback (most recent call last)",
      "\u001b[1;32m<ipython-input-91-70716206d988>\u001b[0m in \u001b[0;36m<module>\u001b[1;34m\u001b[0m\n\u001b[0;32m      1\u001b[0m \u001b[1;32mfrom\u001b[0m \u001b[0mscipy\u001b[0m \u001b[1;32mimport\u001b[0m \u001b[0mstats\u001b[0m\u001b[1;33m\u001b[0m\u001b[1;33m\u001b[0m\u001b[0m\n\u001b[1;32m----> 2\u001b[1;33m \u001b[0mdf_1\u001b[0m \u001b[1;33m=\u001b[0m \u001b[0mdf\u001b[0m\u001b[1;33m[\u001b[0m\u001b[1;33m(\u001b[0m\u001b[0mnp\u001b[0m\u001b[1;33m.\u001b[0m\u001b[0mabs\u001b[0m\u001b[1;33m(\u001b[0m\u001b[0mstats\u001b[0m\u001b[1;33m.\u001b[0m\u001b[0mzscore\u001b[0m\u001b[1;33m(\u001b[0m\u001b[0mdf\u001b[0m\u001b[1;33m.\u001b[0m\u001b[0mvalues\u001b[0m\u001b[1;33m)\u001b[0m\u001b[1;33m)\u001b[0m \u001b[1;33m<\u001b[0m \u001b[1;36m3\u001b[0m\u001b[1;33m)\u001b[0m\u001b[1;33m.\u001b[0m\u001b[0mall\u001b[0m\u001b[1;33m(\u001b[0m\u001b[0maxis\u001b[0m\u001b[1;33m=\u001b[0m\u001b[1;36m1\u001b[0m\u001b[1;33m)\u001b[0m\u001b[1;33m]\u001b[0m\u001b[1;33m\u001b[0m\u001b[1;33m\u001b[0m\u001b[0m\n\u001b[0m",
      "\u001b[1;32m~\\.conda\\envs\\tsa_course\\lib\\site-packages\\scipy\\stats\\stats.py\u001b[0m in \u001b[0;36mzscore\u001b[1;34m(a, axis, ddof)\u001b[0m\n\u001b[0;32m   2245\u001b[0m     \"\"\"\n\u001b[0;32m   2246\u001b[0m     \u001b[0ma\u001b[0m \u001b[1;33m=\u001b[0m \u001b[0mnp\u001b[0m\u001b[1;33m.\u001b[0m\u001b[0masanyarray\u001b[0m\u001b[1;33m(\u001b[0m\u001b[0ma\u001b[0m\u001b[1;33m)\u001b[0m\u001b[1;33m\u001b[0m\u001b[1;33m\u001b[0m\u001b[0m\n\u001b[1;32m-> 2247\u001b[1;33m     \u001b[0mmns\u001b[0m \u001b[1;33m=\u001b[0m \u001b[0ma\u001b[0m\u001b[1;33m.\u001b[0m\u001b[0mmean\u001b[0m\u001b[1;33m(\u001b[0m\u001b[0maxis\u001b[0m\u001b[1;33m=\u001b[0m\u001b[0maxis\u001b[0m\u001b[1;33m)\u001b[0m\u001b[1;33m\u001b[0m\u001b[1;33m\u001b[0m\u001b[0m\n\u001b[0m\u001b[0;32m   2248\u001b[0m     \u001b[0msstd\u001b[0m \u001b[1;33m=\u001b[0m \u001b[0ma\u001b[0m\u001b[1;33m.\u001b[0m\u001b[0mstd\u001b[0m\u001b[1;33m(\u001b[0m\u001b[0maxis\u001b[0m\u001b[1;33m=\u001b[0m\u001b[0maxis\u001b[0m\u001b[1;33m,\u001b[0m \u001b[0mddof\u001b[0m\u001b[1;33m=\u001b[0m\u001b[0mddof\u001b[0m\u001b[1;33m)\u001b[0m\u001b[1;33m\u001b[0m\u001b[1;33m\u001b[0m\u001b[0m\n\u001b[0;32m   2249\u001b[0m     \u001b[1;32mif\u001b[0m \u001b[0maxis\u001b[0m \u001b[1;32mand\u001b[0m \u001b[0mmns\u001b[0m\u001b[1;33m.\u001b[0m\u001b[0mndim\u001b[0m \u001b[1;33m<\u001b[0m \u001b[0ma\u001b[0m\u001b[1;33m.\u001b[0m\u001b[0mndim\u001b[0m\u001b[1;33m:\u001b[0m\u001b[1;33m\u001b[0m\u001b[1;33m\u001b[0m\u001b[0m\n",
      "\u001b[1;32m~\\.conda\\envs\\tsa_course\\lib\\site-packages\\numpy\\core\\_methods.py\u001b[0m in \u001b[0;36m_mean\u001b[1;34m(a, axis, dtype, out, keepdims)\u001b[0m\n\u001b[0;32m     68\u001b[0m             \u001b[0mis_float16_result\u001b[0m \u001b[1;33m=\u001b[0m \u001b[1;32mTrue\u001b[0m\u001b[1;33m\u001b[0m\u001b[1;33m\u001b[0m\u001b[0m\n\u001b[0;32m     69\u001b[0m \u001b[1;33m\u001b[0m\u001b[0m\n\u001b[1;32m---> 70\u001b[1;33m     \u001b[0mret\u001b[0m \u001b[1;33m=\u001b[0m \u001b[0mumr_sum\u001b[0m\u001b[1;33m(\u001b[0m\u001b[0marr\u001b[0m\u001b[1;33m,\u001b[0m \u001b[0maxis\u001b[0m\u001b[1;33m,\u001b[0m \u001b[0mdtype\u001b[0m\u001b[1;33m,\u001b[0m \u001b[0mout\u001b[0m\u001b[1;33m,\u001b[0m \u001b[0mkeepdims\u001b[0m\u001b[1;33m)\u001b[0m\u001b[1;33m\u001b[0m\u001b[1;33m\u001b[0m\u001b[0m\n\u001b[0m\u001b[0;32m     71\u001b[0m     \u001b[1;32mif\u001b[0m \u001b[0misinstance\u001b[0m\u001b[1;33m(\u001b[0m\u001b[0mret\u001b[0m\u001b[1;33m,\u001b[0m \u001b[0mmu\u001b[0m\u001b[1;33m.\u001b[0m\u001b[0mndarray\u001b[0m\u001b[1;33m)\u001b[0m\u001b[1;33m:\u001b[0m\u001b[1;33m\u001b[0m\u001b[1;33m\u001b[0m\u001b[0m\n\u001b[0;32m     72\u001b[0m         ret = um.true_divide(\n",
      "\u001b[1;31mTypeError\u001b[0m: unsupported operand type(s) for +: 'Timestamp' and 'Timestamp'"
     ]
    }
   ],
   "source": [
    "#from scipy import stats\n",
    "#df_1 = df[(np.abs(stats.zscore(df)) < 3).all(axis=1)]"
   ]
  },
  {
   "cell_type": "code",
   "execution_count": 92,
   "metadata": {},
   "outputs": [
    {
     "data": {
      "text/html": [
       "<div>\n",
       "<style scoped>\n",
       "    .dataframe tbody tr th:only-of-type {\n",
       "        vertical-align: middle;\n",
       "    }\n",
       "\n",
       "    .dataframe tbody tr th {\n",
       "        vertical-align: top;\n",
       "    }\n",
       "\n",
       "    .dataframe thead th {\n",
       "        text-align: right;\n",
       "    }\n",
       "</style>\n",
       "<table border=\"1\" class=\"dataframe\">\n",
       "  <thead>\n",
       "    <tr style=\"text-align: right;\">\n",
       "      <th></th>\n",
       "      <th>marital_status_Married</th>\n",
       "      <th>marital_status_Single</th>\n",
       "      <th>marital_status_unknown</th>\n",
       "      <th>no_of_children_1</th>\n",
       "      <th>no_of_children_2</th>\n",
       "      <th>no_of_children_3+</th>\n",
       "      <th>family_size_2</th>\n",
       "      <th>family_size_3</th>\n",
       "      <th>family_size_4</th>\n",
       "      <th>family_size_5+</th>\n",
       "      <th>age_range_26-35</th>\n",
       "      <th>age_range_36-45</th>\n",
       "      <th>age_range_46-55</th>\n",
       "      <th>age_range_56-70</th>\n",
       "      <th>age_range_70+</th>\n",
       "      <th>id</th>\n",
       "      <th>coupon_id</th>\n",
       "      <th>redemption_status</th>\n",
       "      <th>quantity</th>\n",
       "      <th>selling_price</th>\n",
       "      <th>other_discount</th>\n",
       "      <th>coupon_discount</th>\n",
       "      <th>rented</th>\n",
       "      <th>income_bracket</th>\n",
       "      <th>campaign_type</th>\n",
       "    </tr>\n",
       "  </thead>\n",
       "  <tbody>\n",
       "    <tr>\n",
       "      <th>count</th>\n",
       "      <td>1.588044e+07</td>\n",
       "      <td>1.588044e+07</td>\n",
       "      <td>1.588044e+07</td>\n",
       "      <td>1.588044e+07</td>\n",
       "      <td>1.588044e+07</td>\n",
       "      <td>1.588044e+07</td>\n",
       "      <td>1.588044e+07</td>\n",
       "      <td>1.588044e+07</td>\n",
       "      <td>1.588044e+07</td>\n",
       "      <td>1.588044e+07</td>\n",
       "      <td>1.588044e+07</td>\n",
       "      <td>1.588044e+07</td>\n",
       "      <td>1.588044e+07</td>\n",
       "      <td>1.588044e+07</td>\n",
       "      <td>1.588044e+07</td>\n",
       "      <td>1.588044e+07</td>\n",
       "      <td>1.588044e+07</td>\n",
       "      <td>1.588044e+07</td>\n",
       "      <td>1.588044e+07</td>\n",
       "      <td>1.588044e+07</td>\n",
       "      <td>1.588044e+07</td>\n",
       "      <td>1.588044e+07</td>\n",
       "      <td>1.588044e+07</td>\n",
       "      <td>1.588044e+07</td>\n",
       "      <td>1.588044e+07</td>\n",
       "    </tr>\n",
       "    <tr>\n",
       "      <th>mean</th>\n",
       "      <td>4.479306e-01</td>\n",
       "      <td>1.382211e-01</td>\n",
       "      <td>4.138484e-01</td>\n",
       "      <td>1.590630e-01</td>\n",
       "      <td>9.299273e-02</td>\n",
       "      <td>1.081234e-01</td>\n",
       "      <td>3.767738e-01</td>\n",
       "      <td>1.525834e-01</td>\n",
       "      <td>7.969821e-02</td>\n",
       "      <td>1.029543e-01</td>\n",
       "      <td>1.888153e-01</td>\n",
       "      <td>2.792594e-01</td>\n",
       "      <td>3.512505e-01</td>\n",
       "      <td>6.733961e-02</td>\n",
       "      <td>5.849584e-02</td>\n",
       "      <td>6.442238e+04</td>\n",
       "      <td>5.784904e+02</td>\n",
       "      <td>1.543452e-02</td>\n",
       "      <td>1.684939e+02</td>\n",
       "      <td>1.239820e+02</td>\n",
       "      <td>-1.917020e+01</td>\n",
       "      <td>-7.529649e-01</td>\n",
       "      <td>6.107278e-02</td>\n",
       "      <td>5.003227e+00</td>\n",
       "      <td>6.908813e-01</td>\n",
       "    </tr>\n",
       "    <tr>\n",
       "      <th>std</th>\n",
       "      <td>4.972814e-01</td>\n",
       "      <td>3.451319e-01</td>\n",
       "      <td>4.925220e-01</td>\n",
       "      <td>3.657349e-01</td>\n",
       "      <td>2.904223e-01</td>\n",
       "      <td>3.105362e-01</td>\n",
       "      <td>4.845775e-01</td>\n",
       "      <td>3.595855e-01</td>\n",
       "      <td>2.708254e-01</td>\n",
       "      <td>3.038992e-01</td>\n",
       "      <td>3.913618e-01</td>\n",
       "      <td>4.486352e-01</td>\n",
       "      <td>4.773611e-01</td>\n",
       "      <td>2.506092e-01</td>\n",
       "      <td>2.346787e-01</td>\n",
       "      <td>3.709729e+04</td>\n",
       "      <td>3.263667e+02</td>\n",
       "      <td>1.232732e-01</td>\n",
       "      <td>1.527344e+03</td>\n",
       "      <td>1.649891e+02</td>\n",
       "      <td>3.921596e+01</td>\n",
       "      <td>8.126281e+00</td>\n",
       "      <td>2.394638e-01</td>\n",
       "      <td>2.524797e+00</td>\n",
       "      <td>4.621302e-01</td>\n",
       "    </tr>\n",
       "    <tr>\n",
       "      <th>min</th>\n",
       "      <td>0.000000e+00</td>\n",
       "      <td>0.000000e+00</td>\n",
       "      <td>0.000000e+00</td>\n",
       "      <td>0.000000e+00</td>\n",
       "      <td>0.000000e+00</td>\n",
       "      <td>0.000000e+00</td>\n",
       "      <td>0.000000e+00</td>\n",
       "      <td>0.000000e+00</td>\n",
       "      <td>0.000000e+00</td>\n",
       "      <td>0.000000e+00</td>\n",
       "      <td>0.000000e+00</td>\n",
       "      <td>0.000000e+00</td>\n",
       "      <td>0.000000e+00</td>\n",
       "      <td>0.000000e+00</td>\n",
       "      <td>0.000000e+00</td>\n",
       "      <td>1.000000e+00</td>\n",
       "      <td>1.000000e+00</td>\n",
       "      <td>0.000000e+00</td>\n",
       "      <td>1.000000e+00</td>\n",
       "      <td>3.600000e-01</td>\n",
       "      <td>-2.340230e+03</td>\n",
       "      <td>-7.124000e+02</td>\n",
       "      <td>0.000000e+00</td>\n",
       "      <td>1.000000e+00</td>\n",
       "      <td>0.000000e+00</td>\n",
       "    </tr>\n",
       "    <tr>\n",
       "      <th>25%</th>\n",
       "      <td>0.000000e+00</td>\n",
       "      <td>0.000000e+00</td>\n",
       "      <td>0.000000e+00</td>\n",
       "      <td>0.000000e+00</td>\n",
       "      <td>0.000000e+00</td>\n",
       "      <td>0.000000e+00</td>\n",
       "      <td>0.000000e+00</td>\n",
       "      <td>0.000000e+00</td>\n",
       "      <td>0.000000e+00</td>\n",
       "      <td>0.000000e+00</td>\n",
       "      <td>0.000000e+00</td>\n",
       "      <td>0.000000e+00</td>\n",
       "      <td>0.000000e+00</td>\n",
       "      <td>0.000000e+00</td>\n",
       "      <td>0.000000e+00</td>\n",
       "      <td>3.258100e+04</td>\n",
       "      <td>3.030000e+02</td>\n",
       "      <td>0.000000e+00</td>\n",
       "      <td>1.000000e+00</td>\n",
       "      <td>5.343000e+01</td>\n",
       "      <td>-2.565000e+01</td>\n",
       "      <td>0.000000e+00</td>\n",
       "      <td>0.000000e+00</td>\n",
       "      <td>4.000000e+00</td>\n",
       "      <td>0.000000e+00</td>\n",
       "    </tr>\n",
       "    <tr>\n",
       "      <th>50%</th>\n",
       "      <td>0.000000e+00</td>\n",
       "      <td>0.000000e+00</td>\n",
       "      <td>0.000000e+00</td>\n",
       "      <td>0.000000e+00</td>\n",
       "      <td>0.000000e+00</td>\n",
       "      <td>0.000000e+00</td>\n",
       "      <td>0.000000e+00</td>\n",
       "      <td>0.000000e+00</td>\n",
       "      <td>0.000000e+00</td>\n",
       "      <td>0.000000e+00</td>\n",
       "      <td>0.000000e+00</td>\n",
       "      <td>0.000000e+00</td>\n",
       "      <td>0.000000e+00</td>\n",
       "      <td>0.000000e+00</td>\n",
       "      <td>0.000000e+00</td>\n",
       "      <td>6.436300e+04</td>\n",
       "      <td>6.080000e+02</td>\n",
       "      <td>0.000000e+00</td>\n",
       "      <td>1.000000e+00</td>\n",
       "      <td>8.869000e+01</td>\n",
       "      <td>-3.560000e+00</td>\n",
       "      <td>0.000000e+00</td>\n",
       "      <td>0.000000e+00</td>\n",
       "      <td>5.000000e+00</td>\n",
       "      <td>1.000000e+00</td>\n",
       "    </tr>\n",
       "    <tr>\n",
       "      <th>75%</th>\n",
       "      <td>1.000000e+00</td>\n",
       "      <td>0.000000e+00</td>\n",
       "      <td>1.000000e+00</td>\n",
       "      <td>0.000000e+00</td>\n",
       "      <td>0.000000e+00</td>\n",
       "      <td>0.000000e+00</td>\n",
       "      <td>1.000000e+00</td>\n",
       "      <td>0.000000e+00</td>\n",
       "      <td>0.000000e+00</td>\n",
       "      <td>0.000000e+00</td>\n",
       "      <td>0.000000e+00</td>\n",
       "      <td>1.000000e+00</td>\n",
       "      <td>1.000000e+00</td>\n",
       "      <td>0.000000e+00</td>\n",
       "      <td>0.000000e+00</td>\n",
       "      <td>9.667700e+04</td>\n",
       "      <td>8.670000e+02</td>\n",
       "      <td>0.000000e+00</td>\n",
       "      <td>1.000000e+00</td>\n",
       "      <td>1.350000e+02</td>\n",
       "      <td>0.000000e+00</td>\n",
       "      <td>0.000000e+00</td>\n",
       "      <td>0.000000e+00</td>\n",
       "      <td>6.000000e+00</td>\n",
       "      <td>1.000000e+00</td>\n",
       "    </tr>\n",
       "    <tr>\n",
       "      <th>80%</th>\n",
       "      <td>1.000000e+00</td>\n",
       "      <td>0.000000e+00</td>\n",
       "      <td>1.000000e+00</td>\n",
       "      <td>0.000000e+00</td>\n",
       "      <td>0.000000e+00</td>\n",
       "      <td>0.000000e+00</td>\n",
       "      <td>1.000000e+00</td>\n",
       "      <td>0.000000e+00</td>\n",
       "      <td>0.000000e+00</td>\n",
       "      <td>0.000000e+00</td>\n",
       "      <td>0.000000e+00</td>\n",
       "      <td>1.000000e+00</td>\n",
       "      <td>1.000000e+00</td>\n",
       "      <td>0.000000e+00</td>\n",
       "      <td>0.000000e+00</td>\n",
       "      <td>1.030610e+05</td>\n",
       "      <td>9.130000e+02</td>\n",
       "      <td>0.000000e+00</td>\n",
       "      <td>2.000000e+00</td>\n",
       "      <td>1.424800e+02</td>\n",
       "      <td>0.000000e+00</td>\n",
       "      <td>0.000000e+00</td>\n",
       "      <td>0.000000e+00</td>\n",
       "      <td>7.000000e+00</td>\n",
       "      <td>1.000000e+00</td>\n",
       "    </tr>\n",
       "    <tr>\n",
       "      <th>85%</th>\n",
       "      <td>1.000000e+00</td>\n",
       "      <td>0.000000e+00</td>\n",
       "      <td>1.000000e+00</td>\n",
       "      <td>1.000000e+00</td>\n",
       "      <td>0.000000e+00</td>\n",
       "      <td>0.000000e+00</td>\n",
       "      <td>1.000000e+00</td>\n",
       "      <td>1.000000e+00</td>\n",
       "      <td>0.000000e+00</td>\n",
       "      <td>0.000000e+00</td>\n",
       "      <td>1.000000e+00</td>\n",
       "      <td>1.000000e+00</td>\n",
       "      <td>1.000000e+00</td>\n",
       "      <td>0.000000e+00</td>\n",
       "      <td>0.000000e+00</td>\n",
       "      <td>1.094360e+05</td>\n",
       "      <td>9.680000e+02</td>\n",
       "      <td>0.000000e+00</td>\n",
       "      <td>2.000000e+00</td>\n",
       "      <td>1.777400e+02</td>\n",
       "      <td>0.000000e+00</td>\n",
       "      <td>0.000000e+00</td>\n",
       "      <td>0.000000e+00</td>\n",
       "      <td>8.000000e+00</td>\n",
       "      <td>1.000000e+00</td>\n",
       "    </tr>\n",
       "    <tr>\n",
       "      <th>90%</th>\n",
       "      <td>1.000000e+00</td>\n",
       "      <td>1.000000e+00</td>\n",
       "      <td>1.000000e+00</td>\n",
       "      <td>1.000000e+00</td>\n",
       "      <td>0.000000e+00</td>\n",
       "      <td>1.000000e+00</td>\n",
       "      <td>1.000000e+00</td>\n",
       "      <td>1.000000e+00</td>\n",
       "      <td>0.000000e+00</td>\n",
       "      <td>1.000000e+00</td>\n",
       "      <td>1.000000e+00</td>\n",
       "      <td>1.000000e+00</td>\n",
       "      <td>1.000000e+00</td>\n",
       "      <td>0.000000e+00</td>\n",
       "      <td>0.000000e+00</td>\n",
       "      <td>1.158710e+05</td>\n",
       "      <td>1.012000e+03</td>\n",
       "      <td>0.000000e+00</td>\n",
       "      <td>2.000000e+00</td>\n",
       "      <td>2.133600e+02</td>\n",
       "      <td>0.000000e+00</td>\n",
       "      <td>0.000000e+00</td>\n",
       "      <td>0.000000e+00</td>\n",
       "      <td>9.000000e+00</td>\n",
       "      <td>1.000000e+00</td>\n",
       "    </tr>\n",
       "    <tr>\n",
       "      <th>max</th>\n",
       "      <td>1.000000e+00</td>\n",
       "      <td>1.000000e+00</td>\n",
       "      <td>1.000000e+00</td>\n",
       "      <td>1.000000e+00</td>\n",
       "      <td>1.000000e+00</td>\n",
       "      <td>1.000000e+00</td>\n",
       "      <td>1.000000e+00</td>\n",
       "      <td>1.000000e+00</td>\n",
       "      <td>1.000000e+00</td>\n",
       "      <td>1.000000e+00</td>\n",
       "      <td>1.000000e+00</td>\n",
       "      <td>1.000000e+00</td>\n",
       "      <td>1.000000e+00</td>\n",
       "      <td>1.000000e+00</td>\n",
       "      <td>1.000000e+00</td>\n",
       "      <td>1.285920e+05</td>\n",
       "      <td>1.115000e+03</td>\n",
       "      <td>1.000000e+00</td>\n",
       "      <td>8.505500e+04</td>\n",
       "      <td>7.480200e+03</td>\n",
       "      <td>0.000000e+00</td>\n",
       "      <td>0.000000e+00</td>\n",
       "      <td>1.000000e+00</td>\n",
       "      <td>1.200000e+01</td>\n",
       "      <td>1.000000e+00</td>\n",
       "    </tr>\n",
       "  </tbody>\n",
       "</table>\n",
       "</div>"
      ],
      "text/plain": [
       "       marital_status_Married  marital_status_Single  marital_status_unknown  no_of_children_1  no_of_children_2  no_of_children_3+  family_size_2  family_size_3  family_size_4  family_size_5+  age_range_26-35  age_range_36-45  age_range_46-55  age_range_56-70  age_range_70+            id     coupon_id  redemption_status      quantity  selling_price  other_discount  coupon_discount        rented  income_bracket  campaign_type\n",
       "count            1.588044e+07           1.588044e+07            1.588044e+07      1.588044e+07      1.588044e+07       1.588044e+07   1.588044e+07   1.588044e+07   1.588044e+07    1.588044e+07     1.588044e+07     1.588044e+07     1.588044e+07     1.588044e+07   1.588044e+07  1.588044e+07  1.588044e+07       1.588044e+07  1.588044e+07   1.588044e+07    1.588044e+07     1.588044e+07  1.588044e+07    1.588044e+07   1.588044e+07\n",
       "mean             4.479306e-01           1.382211e-01            4.138484e-01      1.590630e-01      9.299273e-02       1.081234e-01   3.767738e-01   1.525834e-01   7.969821e-02    1.029543e-01     1.888153e-01     2.792594e-01     3.512505e-01     6.733961e-02   5.849584e-02  6.442238e+04  5.784904e+02       1.543452e-02  1.684939e+02   1.239820e+02   -1.917020e+01    -7.529649e-01  6.107278e-02    5.003227e+00   6.908813e-01\n",
       "std              4.972814e-01           3.451319e-01            4.925220e-01      3.657349e-01      2.904223e-01       3.105362e-01   4.845775e-01   3.595855e-01   2.708254e-01    3.038992e-01     3.913618e-01     4.486352e-01     4.773611e-01     2.506092e-01   2.346787e-01  3.709729e+04  3.263667e+02       1.232732e-01  1.527344e+03   1.649891e+02    3.921596e+01     8.126281e+00  2.394638e-01    2.524797e+00   4.621302e-01\n",
       "min              0.000000e+00           0.000000e+00            0.000000e+00      0.000000e+00      0.000000e+00       0.000000e+00   0.000000e+00   0.000000e+00   0.000000e+00    0.000000e+00     0.000000e+00     0.000000e+00     0.000000e+00     0.000000e+00   0.000000e+00  1.000000e+00  1.000000e+00       0.000000e+00  1.000000e+00   3.600000e-01   -2.340230e+03    -7.124000e+02  0.000000e+00    1.000000e+00   0.000000e+00\n",
       "25%              0.000000e+00           0.000000e+00            0.000000e+00      0.000000e+00      0.000000e+00       0.000000e+00   0.000000e+00   0.000000e+00   0.000000e+00    0.000000e+00     0.000000e+00     0.000000e+00     0.000000e+00     0.000000e+00   0.000000e+00  3.258100e+04  3.030000e+02       0.000000e+00  1.000000e+00   5.343000e+01   -2.565000e+01     0.000000e+00  0.000000e+00    4.000000e+00   0.000000e+00\n",
       "50%              0.000000e+00           0.000000e+00            0.000000e+00      0.000000e+00      0.000000e+00       0.000000e+00   0.000000e+00   0.000000e+00   0.000000e+00    0.000000e+00     0.000000e+00     0.000000e+00     0.000000e+00     0.000000e+00   0.000000e+00  6.436300e+04  6.080000e+02       0.000000e+00  1.000000e+00   8.869000e+01   -3.560000e+00     0.000000e+00  0.000000e+00    5.000000e+00   1.000000e+00\n",
       "75%              1.000000e+00           0.000000e+00            1.000000e+00      0.000000e+00      0.000000e+00       0.000000e+00   1.000000e+00   0.000000e+00   0.000000e+00    0.000000e+00     0.000000e+00     1.000000e+00     1.000000e+00     0.000000e+00   0.000000e+00  9.667700e+04  8.670000e+02       0.000000e+00  1.000000e+00   1.350000e+02    0.000000e+00     0.000000e+00  0.000000e+00    6.000000e+00   1.000000e+00\n",
       "80%              1.000000e+00           0.000000e+00            1.000000e+00      0.000000e+00      0.000000e+00       0.000000e+00   1.000000e+00   0.000000e+00   0.000000e+00    0.000000e+00     0.000000e+00     1.000000e+00     1.000000e+00     0.000000e+00   0.000000e+00  1.030610e+05  9.130000e+02       0.000000e+00  2.000000e+00   1.424800e+02    0.000000e+00     0.000000e+00  0.000000e+00    7.000000e+00   1.000000e+00\n",
       "85%              1.000000e+00           0.000000e+00            1.000000e+00      1.000000e+00      0.000000e+00       0.000000e+00   1.000000e+00   1.000000e+00   0.000000e+00    0.000000e+00     1.000000e+00     1.000000e+00     1.000000e+00     0.000000e+00   0.000000e+00  1.094360e+05  9.680000e+02       0.000000e+00  2.000000e+00   1.777400e+02    0.000000e+00     0.000000e+00  0.000000e+00    8.000000e+00   1.000000e+00\n",
       "90%              1.000000e+00           1.000000e+00            1.000000e+00      1.000000e+00      0.000000e+00       1.000000e+00   1.000000e+00   1.000000e+00   0.000000e+00    1.000000e+00     1.000000e+00     1.000000e+00     1.000000e+00     0.000000e+00   0.000000e+00  1.158710e+05  1.012000e+03       0.000000e+00  2.000000e+00   2.133600e+02    0.000000e+00     0.000000e+00  0.000000e+00    9.000000e+00   1.000000e+00\n",
       "max              1.000000e+00           1.000000e+00            1.000000e+00      1.000000e+00      1.000000e+00       1.000000e+00   1.000000e+00   1.000000e+00   1.000000e+00    1.000000e+00     1.000000e+00     1.000000e+00     1.000000e+00     1.000000e+00   1.000000e+00  1.285920e+05  1.115000e+03       1.000000e+00  8.505500e+04   7.480200e+03    0.000000e+00     0.000000e+00  1.000000e+00    1.200000e+01   1.000000e+00"
      ]
     },
     "execution_count": 92,
     "metadata": {},
     "output_type": "execute_result"
    }
   ],
   "source": [
    "df.describe(percentiles=[0.25,0.5,0.75,0.80,0.85,0.9])"
   ]
  },
  {
   "cell_type": "code",
   "execution_count": 93,
   "metadata": {},
   "outputs": [],
   "source": [
    "from sklearn.feature_selection import RFE\n",
    "from sklearn.linear_model import LogisticRegression"
   ]
  },
  {
   "cell_type": "code",
   "execution_count": 94,
   "metadata": {},
   "outputs": [],
   "source": [
    "lg =LogisticRegression()\n",
    "rfe = RFE(lg,13)"
   ]
  },
  {
   "cell_type": "code",
   "execution_count": 95,
   "metadata": {},
   "outputs": [],
   "source": [
    "y = df.pop('redemption_status')\n",
    "X = df"
   ]
  },
  {
   "cell_type": "code",
   "execution_count": 96,
   "metadata": {},
   "outputs": [],
   "source": [
    "from sklearn.model_selection import train_test_split"
   ]
  },
  {
   "cell_type": "code",
   "execution_count": 97,
   "metadata": {},
   "outputs": [],
   "source": [
    "X_train, X_test, y_train, y_test = train_test_split( X, y, test_size=0.33, random_state=42)"
   ]
  },
  {
   "cell_type": "code",
   "execution_count": 100,
   "metadata": {
    "scrolled": true
   },
   "outputs": [
    {
     "data": {
      "text/plain": [
       "Index(['marital_status_Married', 'marital_status_Single', 'marital_status_unknown', 'no_of_children_1', 'no_of_children_2', 'no_of_children_3+', 'family_size_2', 'family_size_3', 'family_size_4', 'family_size_5+', 'age_range_26-35', 'age_range_36-45', 'age_range_46-55', 'age_range_56-70', 'age_range_70+', 'id', 'coupon_id', 'date', 'quantity', 'selling_price', 'other_discount', 'coupon_discount', 'rented', 'income_bracket', 'campaign_type', 'start_date', 'end_date'], dtype='object')"
      ]
     },
     "execution_count": 100,
     "metadata": {},
     "output_type": "execute_result"
    }
   ],
   "source": [
    "X_train.columns"
   ]
  },
  {
   "cell_type": "code",
   "execution_count": 101,
   "metadata": {},
   "outputs": [],
   "source": [
    "col1 = ['marital_status_Married', 'marital_status_Single', 'marital_status_unknown', 'no_of_children_1', 'no_of_children_2', 'no_of_children_3+', 'family_size_2', 'family_size_3', 'family_size_4', 'family_size_5+', 'age_range_26-35', 'age_range_36-45', 'age_range_46-55', 'age_range_56-70', 'age_range_70+', 'id', 'coupon_id', 'quantity', 'selling_price', 'other_discount', 'coupon_discount', 'rented', 'income_bracket', 'campaign_type']"
   ]
  },
  {
   "cell_type": "code",
   "execution_count": null,
   "metadata": {},
   "outputs": [],
   "source": [
    "rfe.fit(X_train[col1],y_train)"
   ]
  },
  {
   "cell_type": "code",
   "execution_count": null,
   "metadata": {},
   "outputs": [],
   "source": [
    "import statsmodel.api as sm"
   ]
  },
  {
   "cell_type": "code",
   "execution_count": null,
   "metadata": {},
   "outputs": [],
   "source": [
    "lg1 = sm.GLM(y_train,sm.add_constant(X_train),family = sm.binomial_family).fit()"
   ]
  }
 ],
 "metadata": {
  "kernelspec": {
   "display_name": "Python 3",
   "language": "python",
   "name": "python3"
  },
  "language_info": {
   "codemirror_mode": {
    "name": "ipython",
    "version": 3
   },
   "file_extension": ".py",
   "mimetype": "text/x-python",
   "name": "python",
   "nbconvert_exporter": "python",
   "pygments_lexer": "ipython3",
   "version": "3.7.2"
  }
 },
 "nbformat": 4,
 "nbformat_minor": 2
}
